{
 "cells": [
  {
   "cell_type": "markdown",
   "id": "66d620c7",
   "metadata": {},
   "source": [
    "# Linux\n",
    "\n",
    "<img src=\"https://www.redeszone.net/app/uploads-redeszone.net/2017/11/instalar-linux-cosas.jpg\" alt=\"\" align=\"center\" width=\"300\" height=\"200\" />\n",
    "\n",
    "## Introducción\n",
    "[GNU/Linux](https://en.wikipedia.org/wiki/Linux) es la denominación técnica y generalizada que reciben una serie de sistemas operativos de tipo Unix, que también suelen ser de código abierto, multiplataforma, multiusuario y multitarea.Estos sistemas operativos están formados mediante la combinación de varios proyectos, entre los cuales destaca el entorno GNU, encabezado por el programador estadounidense Richard Stallman junto a la Free Software Foundation, una fundación cuyo propósito es difundir el software libre (Open source), así como también el núcleo de sistema operativo conocido como **«Linux»**, encabezado por el programador finlandés [Linus Torvalds](https://en.wikipedia.org/wiki/Linus_Torvalds).\n",
    "\n",
    "## Comandos Básicos (por línea de comando)\n",
    "\n",
    "\n",
    "### comando pwd\n",
    "Usa el comando pwd para encontrar la ruta del directorio (carpeta) de trabajo actual en el que te encuentras. El comando devolverá una ruta absoluta (completa), que es básicamente una ruta de todos los directorios que comienzan con una barra diagonal (/) Un ejemplo de una ruta absoluta es `/home/nombredeusuario`.\n"
   ]
  },
  {
   "cell_type": "code",
   "execution_count": null,
   "id": "66f4ecc9",
   "metadata": {},
   "outputs": [],
   "source": [
    "!pwd"
   ]
  },
  {
   "cell_type": "markdown",
   "id": "68a09fb9",
   "metadata": {},
   "source": [
    "### comando cd\n",
    "Para navegar por los archivos y directorios de Linux, usa el comando cd. Te pedirá la ruta completa o el nombre del directorio, dependiendo del directorio de trabajo actual en el que te encuentres.\n",
    "\n",
    "Supongamos que estás en `/home/nombredeusuario/Documentos` y deseas ir a Fotos, un subdirectorio de Documentos. Para hacerlo, simplemente escribe el siguiente comando: cd Fotos.\n",
    "\n",
    "Otro escenario es si deseas ir a un directorio completamente nuevo, por ejemplo, `/home/nombredeusuario/Peliculas`. En este caso, debes escribir cd seguido de la ruta absoluta del directorio: `cd /home/nombredeusuario/Peliculas`.\n",
    "\n",
    "Hay algunos atajos para ayudarte a navegar rápidamente:\n",
    "\n",
    "* **cd ..** (con dos puntos) para ir un directorio hacia arriba\n",
    "* **cd** para ir directamente a la carpeta de inicio\n",
    "\n",
    "Como nota al margen, el shell de Linux distingue entre mayúsculas y minúsculas. Por lo tanto, debes escribir el nombre del directorio de forma exacta."
   ]
  },
  {
   "cell_type": "code",
   "execution_count": null,
   "id": "121cd251",
   "metadata": {},
   "outputs": [],
   "source": [
    "!cd /home/fralfaro/PycharmProjects && pwd"
   ]
  },
  {
   "cell_type": "code",
   "execution_count": null,
   "id": "3a6d9355",
   "metadata": {},
   "outputs": [],
   "source": [
    "!cd .. && pwd"
   ]
  },
  {
   "cell_type": "code",
   "execution_count": null,
   "id": "1cf3d91e",
   "metadata": {},
   "outputs": [],
   "source": [
    "!cd && pwd"
   ]
  },
  {
   "cell_type": "markdown",
   "id": "07072b3f",
   "metadata": {},
   "source": [
    "### comando ls\n",
    "El comando ls se usa para ver el contenido de un directorio. Por defecto, este comando mostrará el contenido de tu directorio de trabajo actual.\n",
    "\n",
    "Si deseas ver el contenido de otros directorios, escribe ls y luego la ruta del directorio. Por ejemplo, ingresa `ls /home/nombredeusuario/Documentos` para ver el contenido de Documentos.\n",
    "\n",
    "Hay variaciones que puedes usar con el comando ls:\n",
    "\n",
    "* **ls -R** también listará todos los archivos en los subdirectorios\n",
    "* **ls -a** mostrará los archivos ocultos\n",
    "* **ls -al** listará los archivos y directorios con información detallada como los permisos, el tamaño, el propietario, etc."
   ]
  },
  {
   "cell_type": "code",
   "execution_count": null,
   "id": "6544e8ef",
   "metadata": {},
   "outputs": [],
   "source": [
    "!ls"
   ]
  },
  {
   "cell_type": "code",
   "execution_count": null,
   "id": "d4d28d35",
   "metadata": {},
   "outputs": [],
   "source": [
    "!ls -R"
   ]
  },
  {
   "cell_type": "code",
   "execution_count": null,
   "id": "442f74c7",
   "metadata": {},
   "outputs": [],
   "source": [
    "!ls -a"
   ]
  },
  {
   "cell_type": "code",
   "execution_count": null,
   "id": "5552bf5b",
   "metadata": {},
   "outputs": [],
   "source": [
    "!ls -al"
   ]
  },
  {
   "cell_type": "markdown",
   "id": "a0ba54ee",
   "metadata": {},
   "source": [
    "### comando cat\n",
    "Se utiliza para listar el contenido de un archivo en la salida estándar (sdout). Para ejecutar este comando, escribe cat seguido del nombre del archivo y su extensión. Por ejemplo: cat archivo.txt.\n",
    "\n",
    "Aquí hay otras formas de usar el comando cat:\n",
    "\n",
    "* `cat > nombredearchivo` crea un nuevo archivo.\n",
    "* `cat nombredearchivo1 nombredearchivo2>nombredearchivo3 `une dos archivos (1 y 2) y almacena la salida de ellos en un nuevo archivo (3)\n",
    "* convertir un archivo a mayúsculas o minúsculas, `cat nombredearchivo | tr a-z A-Z> salida.txt`"
   ]
  },
  {
   "cell_type": "code",
   "execution_count": null,
   "id": "b95bca7e",
   "metadata": {},
   "outputs": [],
   "source": [
    "!cat archivo.txt"
   ]
  },
  {
   "cell_type": "markdown",
   "id": "fe5d4647",
   "metadata": {},
   "source": [
    "### comando cp\n",
    "Usa el comando cp para copiar archivos del directorio actual a un directorio diferente. Por ejemplo:"
   ]
  },
  {
   "cell_type": "code",
   "execution_count": null,
   "id": "a92f9ff2",
   "metadata": {},
   "outputs": [],
   "source": [
    "!cp archivo.txt archivo_02.txt"
   ]
  },
  {
   "cell_type": "markdown",
   "id": "90fe0192",
   "metadata": {},
   "source": [
    "### comando mv\n",
    "El uso principal del comando mv es mover archivos, aunque también se puede usar para cambiar el nombre de los archivos.\n",
    "\n",
    "Los argumentos en mv son similares al comando cp. Debes escribir mv, el nombre del archivo y el directorio destino. "
   ]
  },
  {
   "cell_type": "code",
   "execution_count": null,
   "id": "0a4cde46",
   "metadata": {},
   "outputs": [],
   "source": [
    "!mv archivo_02.txt linux"
   ]
  },
  {
   "cell_type": "markdown",
   "id": "662526ea",
   "metadata": {},
   "source": [
    "Para cambiar el nombre de los archivos, el comando de Linux es `mv nombreviejo.ext nombrenuevo.ext`"
   ]
  },
  {
   "cell_type": "markdown",
   "id": "603e8dfd",
   "metadata": {},
   "source": [
    "### comando mkdir\n",
    "Usa el comando mkdir para crear un nuevo directorio: si escribes mkdir Musica, creará un directorio llamado Musica.\n",
    "\n",
    "También hay comandos adicionales de mkdir:\n",
    "\n",
    "* Para generar un nuevo directorio dentro de otro directorio, usa este comando básico de Linux `mkdir Musica/Nuevoarchivo`\n",
    "* Usa la opción p (padres) para crear un directorio entre dos directorios existentes. Por ejemplo, `mkdir -p Musica/2020/Nuevoarchivo` creará el nuevo archivo «2020»."
   ]
  },
  {
   "cell_type": "code",
   "execution_count": null,
   "id": "511be440",
   "metadata": {},
   "outputs": [],
   "source": [
    "!mkdir Carpeta"
   ]
  },
  {
   "cell_type": "code",
   "execution_count": null,
   "id": "0df6d43a",
   "metadata": {},
   "outputs": [],
   "source": [
    "!mkdir Carpeta/nueva_carpeta"
   ]
  },
  {
   "cell_type": "markdown",
   "id": "c8e74ee9",
   "metadata": {},
   "source": [
    "### comando touch\n",
    "\n",
    "El comando touch te permite crear un nuevo archivo en blanco a través de la línea de comando de Linux. Como ejemplo, ingresa `touch /home/nombredeusuario/Documentos/Web.html` para crear un archivo HTML titulado Web en el directorio Documentos."
   ]
  },
  {
   "cell_type": "code",
   "execution_count": null,
   "id": "0810c1bf",
   "metadata": {},
   "outputs": [],
   "source": [
    "!touch Web.html"
   ]
  },
  {
   "cell_type": "code",
   "execution_count": null,
   "id": "c769c02c",
   "metadata": {},
   "outputs": [],
   "source": [
    "!ls"
   ]
  },
  {
   "cell_type": "markdown",
   "id": "0327f56b",
   "metadata": {},
   "source": [
    "### comando rmdir\n",
    "Si necesitas eliminar un directorio, usa el comando rmdir. Sin embargo, rmdir solo te permite eliminar directorios vacíos."
   ]
  },
  {
   "cell_type": "code",
   "execution_count": null,
   "id": "a784822e",
   "metadata": {},
   "outputs": [],
   "source": [
    "!rmdir Carpeta"
   ]
  },
  {
   "cell_type": "code",
   "execution_count": null,
   "id": "c920e46f",
   "metadata": {},
   "outputs": [],
   "source": [
    "!rmdir Carpeta/nueva_carpeta"
   ]
  },
  {
   "cell_type": "markdown",
   "id": "4976de06",
   "metadata": {},
   "source": [
    "### comando rm\n",
    "El comando rm se usa para eliminar directorios y el contenido dentro de ellos. Si solo deseas eliminar el directorio, como alternativa a rmdir, usa rm -r.\n",
    "\n",
    "\n",
    "> **Nota**: Ten mucho cuidado con este comando y verifica en qué directorio te encuentras. Este comando elimina todo y no se puede deshacer."
   ]
  },
  {
   "cell_type": "code",
   "execution_count": null,
   "id": "489e43db",
   "metadata": {},
   "outputs": [],
   "source": [
    "!rm -r Carpeta "
   ]
  },
  {
   "cell_type": "code",
   "execution_count": null,
   "id": "000ba0df",
   "metadata": {
    "lines_to_next_cell": 2
   },
   "outputs": [],
   "source": [
    "!rm Web.html linux/archivo_02.txt"
   ]
  },
  {
   "cell_type": "markdown",
   "id": "d77eac4b",
   "metadata": {},
   "source": [
    "## Referencia\n",
    "\n",
    "1. [The Ultimate Linux Command Line Guide - Full Bash Tutorial](https://www.freecodecamp.org/news/linux-command-line-bash-tutorial/)\n",
    "2. [35 comandos básicos de Linux que todo usuario debe saber](https://www.hostinger.es/tutoriales/linux-comandos)"
   ]
  }
 ],
 "metadata": {
  "jupytext": {
   "cell_metadata_filter": "-all",
   "main_language": "python",
   "notebook_metadata_filter": "-all",
   "text_representation": {
    "extension": ".md",
    "format_name": "markdown"
   }
  }
 },
 "nbformat": 4,
 "nbformat_minor": 5
}
