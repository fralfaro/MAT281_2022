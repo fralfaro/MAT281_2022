{
 "cells": [
  {
   "cell_type": "markdown",
   "id": "5371465a",
   "metadata": {},
   "source": [
    "# IDE's\n",
    "\n",
    "<img src=\"https://cdn-images.visual-paradigm.com/features/v12/ide-image.png\" alt=\"\" width=\"200\" height=\"300\" align=\"center\"/>\n",
    "\n",
    "## Introducción \n",
    "Un IDE (Integrated Development Environment) es un software que ayuda a los desarrolladores a escribir códigos para desarrollar aplicaciones. Tiene una interfaz fácil de usar que consta de un editor y un compilador. Podemos escribir el código en la ventana del editor y compilarlo usando el compilador. En consecuencia, podemos ejecutarlo para verificar la salida del programa en el terminal de salida.\n",
    "\n",
    "<img src=\"images/code-01.jpg\" />\n",
    "\n",
    "Un IDE facilita a los desarrolladores con muchas funcionalidades programar en varios idiomas. Así, se ha convertido en una de las herramientas imprescindibles para el desarrollo de diversas aplicaciones.\n",
    "\n",
    "## Herramientas\n",
    "\n",
    "### Text Editor\n",
    "\n",
    "Escribimos programas en la ventana del editor de texto. Aquí podemos editar, depurar y comentar nuestros programas. También proporciona funciones como el predictor de texto que ayuda a corregir errores.\n",
    "\n",
    "<img src=\"images/p1.png\" />\n",
    "\n",
    "### Project Editor\n",
    "\n",
    "Un proyecto consta de diferentes archivos para diversas funcionalidades. Almacenamos estos archivos esenciales de un proyecto de software en la ventana del Editor de proyectos.\n",
    "\n",
    "<img src=\"images/p2.png\" />\n",
    "\n",
    "### Output Terminal\n",
    "\n",
    "El terminal de salida en un IDE muestra el resultado del programa.\n",
    "\n",
    "<img src=\"images/p3.png\" />\n",
    "\n",
    "### Toolbar\n",
    "\n",
    "Una barra de herramientas es un conjunto de opciones que están vinculadas a funcionalidades específicas como ver, ejecutar, debugging, etc. Ayuda a realizar varias operaciones en el programa que creamos.\n",
    "\n",
    "<img src=\"images/p4.png\" />\n",
    "\n",
    "## La necesidad de un IDE\n",
    "\n",
    "La velocidad y la eficiencia son los dos factores que afectan a todas las industrias. En esta era competitiva, se ha convertido en un desafío crear software rápido y escalable para los clientes. Aquí es donde un IDE inteligente gana el juego. Un IDE nos ayuda con las siguientes características:\n",
    "\n",
    "### Autocompletar\n",
    "\n",
    "Esta función nos ayuda a corregir errores de sintaxis de inmediato. Sugiere las variables, palabras clave, funciones, bibliotecas y paquetes correctos para usar al escribir el código. Además, el esquema de color de un IDE resulta ser un gran activo. Ayuda a comprender el flujo de un programa. Podemos distinguir fácilmente entre variables y texto y entre funciones y clases, y así comprender la lógica del código.\n",
    "\n",
    "### Debugging\n",
    "El debugging  es el paso más importante para crear un software exitoso. El debugging del código implica probar y borrar todos los errores para que nuestro programa no se bloquee."
   ]
  },
  {
   "cell_type": "markdown",
   "id": "303dd41d",
   "metadata": {},
   "source": [
    "### Gestión de archivos\n",
    "Un proyecto consta de diferentes archivos con diferentes funcionalidades. Se convierte en una tarea necesaria colocar estos archivos en ubicaciones adecuadas para la ejecución del programa. Un IDE hace que la ubicación de todos los archivos de recursos de un proyecto sea más visible\n",
    "\n",
    "## Tipos de IDE\n",
    "La creación de aplicaciones utilizando diferentes lenguajes de programación requiere varios tipos de IDE compatibles con los respectivos lenguajes de programación. En esta sección, veremos los diferentes tipos de IDE utilizados para el desarrollo en varios lenguajes.\n",
    "\n",
    "Existen diferentes categorías de IDE, por ejemplo, usamos IDE para múltiples lenguajes de programación, desarrollo móvil y para lenguajes de programación particulares. "
   ]
  },
  {
   "cell_type": "markdown",
   "id": "9df397c1",
   "metadata": {},
   "source": [
    "### IDE para varios lenguajes\n",
    "Hay muchos IDE disponibles que ayudan a programar en diferentes lenguajes. Podemos utilizar un único IDE para programar en varios lenguajes como C, C ++ o Java. Algunos de estos IDE se mencionan a continuación:\n",
    "\n",
    "#### NetBeans \n",
    "\n",
    "Es un IDE de código abierto que consta de varios paquetes y módulos útiles para el desarrollo. NetBeans admite varios idiomas como se indica a continuación:\n",
    "\n",
    "* C/C++\n",
    "* Java\n",
    "* Python\n",
    "* Ruby\n",
    "* PHP\n",
    "* JavaScript\n",
    "* Groovy\n",
    "\n",
    "#### Eclipse\n",
    "\n",
    "También es un software de código abierto utilizado para varios marcos de desarrollo. Se utiliza principalmente para el desarrollo de aplicaciones con Java. Los idiomas admitidos por Eclipse son:"
   ]
  },
  {
   "cell_type": "markdown",
   "id": "edb3af12",
   "metadata": {},
   "source": [
    "* Java\n",
    "* Python\n",
    "* C/C++\n",
    "* PHP\n",
    "* Perl\n",
    "* Ruby\n",
    "* COBOL\n",
    "* Haskell\n",
    "* Fortran\n",
    "\n",
    "#### Aptana\n",
    "Es un IDE popular utilizado para el desarrollo de aplicaciones web. Los lenguajes de programación admitidos por Aptana son:\n",
    "\n",
    "* Python\n",
    "* Ruby on Rails\n",
    "* Ajax\n",
    "* HTML\n",
    "* CSS\n",
    "* JavaScript\n",
    "\n",
    "### IDE de desarrollo móvil\n",
    "Hay varios IDE que se utilizan para el desarrollo de aplicaciones móviles. Algunos de ellos se enumeran a continuación:\n",
    "\n",
    "* PhoneGap\n",
    "* Android Studio\n",
    "* IntelliJ IDEA\n",
    "* Visual Studio\n",
    "* Appcelerator\n",
    "\n",
    "### IDE para lenguajes particulares"
   ]
  },
  {
   "cell_type": "markdown",
   "id": "85a54ca6",
   "metadata": {},
   "source": [
    "Para programar exclusivamente en un idioma específico, hay varios IDE disponibles. Son los siguientes:\n",
    "\n",
    "* Java: JCreator\n",
    "* Python: IDLE\n",
    "* C/C++: CodeLite\n",
    "* R: RStudio"
   ]
  },
  {
   "cell_type": "markdown",
   "id": "fdfe5cca",
   "metadata": {},
   "source": [
    "## Referencia\n",
    "\n",
    "1. [What is an IDE?](https://intellipaat.com/blog/tutorial/pycharm-tutorial/what-is-ide/)\n"
   ]
  }
 ],
 "metadata": {
  "jupytext": {
   "cell_metadata_filter": "-all",
   "main_language": "python",
   "notebook_metadata_filter": "-all",
   "text_representation": {
    "extension": ".md",
    "format_name": "markdown"
   }
  }
 },
 "nbformat": 4,
 "nbformat_minor": 5
}
