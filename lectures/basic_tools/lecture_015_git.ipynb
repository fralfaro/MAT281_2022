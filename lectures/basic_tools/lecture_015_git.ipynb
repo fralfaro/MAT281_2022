{
 "cells": [
  {
   "cell_type": "markdown",
   "id": "03703094",
   "metadata": {},
   "source": [
    "# Git\n",
    "<img src=\"https://encrypted-tbn0.gstatic.com/images?q=tbn:ANd9GcQHG2qgaSuI_FvrlphFXxKnjZixfFmOs3-iNlkMxxnWazUiWMlyc3C-zMlZMTS2U2J9CZI&usqp=CAU\" align=\"center\"/>"
   ]
  },
  {
   "cell_type": "markdown",
   "id": "544c28de",
   "metadata": {},
   "source": [
    "## Introducción\n",
    "\n",
    "[Git](https://en.wikipedia.org/wiki/Git) es un software de control de versiones diseñado por Linus Torvalds, pensando en la eficiencia, la confiabilidad y compatibilidad del mantenimiento de versiones de aplicaciones cuando estas tienen un gran número de archivos de código fuente. Su propósito es llevar registro de los cambios en archivos de computadora incluyendo coordinar el trabajo que varias personas realizan sobre archivos compartidos en un repositorio de código.\n",
    "\n",
    "Al principio, Git se pensó como un motor de bajo nivel sobre el cual otros pudieran escribir la interfaz de usuario o front end como Cogito o StGIT. Sin embargo, Git se ha convertido desde entonces en un sistema de control de versiones con funcionalidad plena. Hay algunos proyectos de mucha relevancia que ya usan Git, en particular, el grupo de programación del núcleo Linux.\n",
    "\n",
    "El mantenimiento del software Git está actualmente (2009) supervisado por Junio Hamano, quien recibe contribuciones al código de alrededor de 280 programadores. En cuanto a derechos de autor Git es un software libre distribuible bajo los términos de la versión 2 de la Licencia Pública General de GNU."
   ]
  },
  {
   "cell_type": "markdown",
   "id": "b74a2b1f",
   "metadata": {},
   "source": [
    "## Comandos básicos\n",
    "\n",
    "### Configuración inicial\n",
    "\n",
    "Abra su terminal de Git para comenzar con la ejecución de comandos, por ejemplo, abrirá el programa Git bash en Windows para ingresar a la línea de comandos de este programa.\n",
    "\n",
    "Una vez que ingrese, use el siguiente comando para establecer el nombre de usuario de git:\n",
    "\n",
    "```terminal\n",
    "git config --global user.name \"tunombre\"\n",
    "```\n",
    "\n"
   ]
  },
  {
   "cell_type": "code",
   "execution_count": null,
   "id": "3f7c3065",
   "metadata": {},
   "outputs": [],
   "source": [
    "!git config --global user.name"
   ]
  },
  {
   "cell_type": "markdown",
   "id": "34643d55",
   "metadata": {},
   "source": [
    "Recuerde sustituir el texto entre comillas por su nombre real. Ahora indique el correo electrónico del usuario para git:\n",
    "\n",
    "```terminal\n",
    "git config --global user.email \"tuemail\"\n",
    "```"
   ]
  },
  {
   "cell_type": "code",
   "execution_count": null,
   "id": "5c3069a8",
   "metadata": {},
   "outputs": [],
   "source": [
    "!git config --global user.email"
   ]
  },
  {
   "cell_type": "markdown",
   "id": "d9472a60",
   "metadata": {},
   "source": [
    "### crea un repositorio nuevo\n",
    "\n",
    "Crea un directorio nuevo, ábrelo y ejecuta\n",
    "```terminal\n",
    "git init\n",
    "```\n",
    "\n",
    "para crear un nuevo repositorio de git."
   ]
  },
  {
   "cell_type": "markdown",
   "id": "a4223212",
   "metadata": {},
   "source": [
    "### hacer checkout a un repositorio\n",
    "\n",
    "\n",
    "\n",
    "Crea una copia local del repositorio ejecutando:\n",
    "```terminal\n",
    "git clone /path/to/repository\n",
    "```\n",
    "\n",
    "Si utilizas un servidor remoto, ejecuta:\n",
    "\n",
    "```terminal\n",
    "git clone username@host:/path/to/repository\n",
    "```\n",
    "\n",
    "<img src=\"https://bobbelderbos.com/assets/git-clone.png\" alt=\"\" width=\"300\" height=\"300\" align=\"center\"/>\n"
   ]
  },
  {
   "cell_type": "markdown",
   "id": "f1b48057",
   "metadata": {},
   "source": [
    "### flujo de trabajo\n",
    "Tu repositorio local esta compuesto por tres \"árboles\" administrados por git. El primero es tu `Directorio de trabajo` que contiene los archivos, el segundo es el `Index` que actua como una zona intermedia, y el último es el `HEAD` que apunta al último commit realizado.\n",
    "<img src=\"images/trees.png\" alt=\"\" width=\"500\" height=\"300\" align=\"center\"/>"
   ]
  },
  {
   "cell_type": "markdown",
   "id": "bd56074b",
   "metadata": {},
   "source": [
    "### add & commit\n",
    "Puedes registrar cambios (añadirlos al Index) usando\n",
    "\n",
    "\n",
    "```terminal\n",
    "git add <filename>\n",
    "git add .\n",
    "```\n",
    "\n",
    "Este es el primer paso en el flujo de trabajo básico. Para hacer commit a estos cambios usa\n",
    "```terminal\n",
    "git commit -m \"Commit message\"\n",
    "```\n",
    "\n",
    "Ahora el archivo esta incluído en el `HEAD`, pero aún no en tu repositorio remoto.\n",
    "\n",
    "<img src=\"images/flujo.jpg\" alt=\"\" width=\"300\" height=\"500\" align=\"center\"/>\n"
   ]
  },
  {
   "cell_type": "markdown",
   "id": "a7cec479",
   "metadata": {},
   "source": [
    "### ramas (branches)\n",
    "Las ramas son utilizadas para desarrollar funcionalidades aisladas unas de otras. La rama master es la rama \"por defecto\" cuando creas un repositorio. Crea nuevas ramas durante el desarrollo y fusiónalas a la rama principal cuando termines.\n",
    "\n",
    "<img src=\"images/branches.png\" alt=\"\" width=\"500\" height=\"300\" align=\"center\"/>\n"
   ]
  },
  {
   "cell_type": "markdown",
   "id": "8362e204",
   "metadata": {},
   "source": [
    "Crea una nueva rama llamada \"feature_x\" y cámbiate a ella usando\n",
    "\n",
    "```terminal\n",
    "git checkout -b feature_x\n",
    "```\n",
    "\n",
    "vuelve a la rama principal\n",
    "\n",
    "```terminal\n",
    "git checkout master\n",
    "```\n",
    "\n",
    "y borra la rama\n",
    "\n",
    "```terminal\n",
    "git branch -d feature_x\n",
    "```\n",
    "\n",
    "Una rama nueva no estará disponible para los demás a menos que subas (push) la rama a tu repositorio remoto\n",
    "\n",
    "```terminal\n",
    "git push origin <branch>\n",
    "```"
   ]
  },
  {
   "cell_type": "markdown",
   "id": "dee95587",
   "metadata": {},
   "source": [
    "### actualiza & fusiona (pull & merge)\n",
    "\n",
    "\n",
    "Para actualizar tu repositorio local al commit más nuevo, ejecuta\n",
    "\n",
    "```terminal\n",
    "git pull\n",
    "```\n",
    "\n",
    "<img src=\"https://www.maixuanviet.com/wp-content/uploads/2020/05/git-pull2.png\" alt=\"\" width=\"500\" height=\"300\" align=\"center\"/>\n",
    "\n",
    "\n",
    "\n",
    "en tu directorio de trabajo para bajar y fusionar los cambios remotos.\n",
    "Para fusionar otra rama a tu rama activa (por ejemplo master), utiliza\n",
    "\n",
    "\n",
    "```terminal\n",
    "git merge <branch>\n",
    "```\n",
    "\n",
    "en ambos casos git intentará fusionar automáticamente los cambios. Desafortunadamente, no siempre será posible y se podrán producir conflictos. Tú eres responsable de fusionar esos conflictos manualmente al editar los archivos mostrados por git. Después de modificarlos, necesitas marcarlos como fusionados con\n",
    "    \n",
    "\n",
    "```terminal\n",
    "git add <filename>\n",
    "```\n",
    "    \n",
    "Antes de fusionar los cambios, puedes revisarlos usando\n",
    "    \n",
    "```terminal\n",
    "git diff <source_branch> <target_branch>```\n",
    "```\n",
    "\n",
    "<img src=\"https://static.javatpoint.com/tutorial/git/images/git-merge-and-merge-conflict.png\" alt=\"\" width=\"500\" height=\"300\" align=\"center\"/>\n"
   ]
  },
  {
   "cell_type": "markdown",
   "id": "b103bb6b",
   "metadata": {},
   "source": [
    "### gitignore\n",
    "El archivo `.gitignore`, es un archivo de texto que le dice a Git qué archivos o carpetas ignorar en un proyecto.\n",
    "\n",
    "Un archivo local `.gitignore` generalmente se coloca en el directorio raíz de un proyecto. También puedes crear un archivo global `.gitignore`, y cualquier entrada en ese archivo se ignorará en todos tus repositorios de Git.\n",
    "\n",
    "Las entradas de este archivo también pueden seguir un patrón coincidente:\n",
    "\n",
    "* `*` se utiliza como una coincidencia comodín.\n",
    "* `/` se usa para ignorar las rutas relativas al archivo .gitignore.\n",
    "* `#` es usado para agregar comentarios\n",
    "\n",
    "\n",
    "<img src=\"images/gitignore.jpg\" alt=\"\" width=\"300\" height=\"300\" align=\"center\"/>\n"
   ]
  },
  {
   "cell_type": "markdown",
   "id": "314adbed",
   "metadata": {},
   "source": [
    "### reemplaza cambios locales\n",
    "En caso de que hagas algo mal (lo que seguramente nunca suceda ;) puedes reemplazar cambios locales usando el comando\n",
    "```terminal\n",
    "git checkout -- <filename>\n",
    "```\n",
    "\n",
    "Este comando reemplaza los cambios en tu directorio de trabajo con el último contenido de `HEAD`. Los cambios que ya han sido agregados al Index, así como también los nuevos archivos, se mantendrán sin cambio.\n",
    "\n",
    "\n",
    "\n",
    "\n",
    "Por otro lado, si quieres deshacer todos los cambios locales y commits, puedes traer la última versión del servidor y apuntar a tu copia local principal de esta forma\n",
    "\n",
    "```terminal\n",
    "git fetch origin\n",
    "git reset --hard origin/master\n",
    "```"
   ]
  },
  {
   "cell_type": "markdown",
   "id": "9db3bb27",
   "metadata": {},
   "source": [
    "## Referencia\n",
    "\n",
    "1. [La guía sensilla](https://rogerdudler.github.io/git-guide/index.es.html)\n"
   ]
  }
 ],
 "metadata": {
  "jupytext": {
   "cell_metadata_filter": "-all",
   "main_language": "python",
   "notebook_metadata_filter": "-all",
   "text_representation": {
    "extension": ".md",
    "format_name": "markdown"
   }
  }
 },
 "nbformat": 4,
 "nbformat_minor": 5
}
