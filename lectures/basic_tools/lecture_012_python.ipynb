{
  "cells": [
    {
      "cell_type": "markdown",
      "metadata": {
        "id": "VcjH-2gPHw5V"
      },
      "source": [
        "<a href=\"https://colab.research.google.com/github/fralfaro/MAT281_2022/blob/main/docs/lectures/basic_tools/lecture_012_python.ipynb\n",
        "\" target=\"_parent\"><img src=\"https://colab.research.google.com/assets/colab-badge.svg\" alt=\"Open In Colab\"/></a>\n",
        "\n",
        "# Python\n",
        "\n",
        "<img src=\"https://upload.wikimedia.org/wikipedia/commons/thumb/c/c3/Python-logo-notext.svg/768px-Python-logo-notext.svg.png\" alt=\"\" width=\"300\" height=\"300\" align=\"center\"/>\n"
      ]
    },
    {
      "cell_type": "markdown",
      "metadata": {
        "id": "5QGem5QrHw5Z"
      },
      "source": [
        "<a id='sub1'></a>\n",
        "##  Nomenclatura básica\n",
        "\n",
        "\n",
        "### Hola mundo!\n",
        "\n",
        "Escribamos nuestro primer programa de Python, \"¡Hola, mundo!\". Es un programa simple que imprime Hello World! en el dispositivo de salida estándar (pantalla).\n"
      ]
    },
    {
      "cell_type": "code",
      "execution_count": null,
      "metadata": {
        "id": "I6BAXVE3Hw5a"
      },
      "outputs": [],
      "source": [
        "# imprimir \"Hola Mundo!\"\n",
        "print(\"Hola Mundo!\");"
      ]
    },
    {
      "cell_type": "markdown",
      "metadata": {
        "id": "T4VYgeTiHw5b"
      },
      "source": [
        "### Variables\n",
        "\n",
        "Una *variable* es una ubicación con nombre utilizada para almacenar datos en la memoria. Aquí hay un ejemplo:"
      ]
    },
    {
      "cell_type": "code",
      "execution_count": null,
      "metadata": {
        "id": "LZYrJAtgHw5c"
      },
      "outputs": [],
      "source": [
        "# crear e imprimir variables\n",
        "a = 5\n",
        "print(\"a =\", 5)\n",
        "a = \"cinco\"\n",
        "print(\"a =\", a)"
      ]
    },
    {
      "cell_type": "markdown",
      "metadata": {
        "id": "j5yEayQVHw5c"
      },
      "source": [
        "### Operadores básico\n",
        "\n",
        "Los operadores son símbolos especiales que realizan operaciones en operandos (variables y valores). Hablemos de operadores aritméticos y de asignación en esta parte."
      ]
    },
    {
      "cell_type": "code",
      "execution_count": null,
      "metadata": {
        "id": "dS4SrE3lHw5d"
      },
      "outputs": [],
      "source": [
        "# operaciones basicas\n",
        "\n",
        "x = 14\n",
        "y = 4\n",
        "\n",
        "# suma\n",
        "print('x + y =', x+y) # Output: x + y = 18\n",
        "\n",
        "# resta\n",
        "print('x - y =', x-y) # Output: x - y = 10\n",
        "\n",
        "# multiplicacion\n",
        "print('x * y =', x*y) # Output: x * y = 56\n",
        "\n",
        "# division\n",
        "print('x / y =', x/y) # Output: x / y = 3.5\n",
        "\n",
        "# cuociente\n",
        "print('x // y =', x//y) # Output: x // y = 3\n",
        "\n",
        "# resto\n",
        "print('x % y =', x%y) # Output: x % y = 2"
      ]
    },
    {
      "cell_type": "markdown",
      "metadata": {
        "id": "FN9SlvdVHw5e"
      },
      "source": [
        "### Operadores de asignación\n",
        "\n",
        "Los operadores de asignación se utilizan para asignar valores a las variables. Ya has visto el uso de = operator. Probemos algunos operadores de asignación más."
      ]
    },
    {
      "cell_type": "code",
      "execution_count": null,
      "metadata": {
        "id": "Z41Zqd6HHw5e"
      },
      "outputs": [],
      "source": [
        "# operadores de asignacion\n",
        "\n",
        "x = 5\n",
        "\n",
        "# x += 5 ----> x = x + 5\n",
        "x +=5\n",
        "print(x) # Output: 10\n",
        "\n",
        "# x /= 5 ----> x = x / 5\n",
        "x /= 5\n",
        "print(x) # Output: 2.0"
      ]
    },
    {
      "cell_type": "markdown",
      "metadata": {
        "id": "YOVDn5veHw5f"
      },
      "source": [
        "### Inputs por el usuario\n",
        "\n",
        "En Python, puede usar la función *input()* para tomar la entrada del usuario. Por ejemplo:"
      ]
    },
    {
      "cell_type": "markdown",
      "metadata": {
        "id": "wWZg4TqvHw5f"
      },
      "source": [
        "```python\n",
        "# inputs por el usuario\n",
        "inputString = input('Escriba una oracion:')\n",
        "print('Su oracion es:', inputString)\n",
        "```"
      ]
    },
    {
      "cell_type": "markdown",
      "metadata": {
        "id": "gseZQBccHw5g"
      },
      "source": [
        "### Conversión de tipo\n",
        "\n",
        "The process of converting the value of one data type (integer, string, float, etc.) to another is called type conversion. Python has two types of type conversion.\n",
        "\n",
        "#### Implícita"
      ]
    },
    {
      "cell_type": "code",
      "execution_count": null,
      "metadata": {
        "id": "AfdayeUnHw5g"
      },
      "outputs": [],
      "source": [
        "# correcto\n",
        "num_int = 123  # integer type\n",
        "num_flo = 1.23 # float type\n",
        "\n",
        "num_new = num_int + num_flo\n",
        "\n",
        "print(\"Valor de num_new:\",num_new)\n",
        "print(\"tipo de datos de  num_new:\",type(num_new))"
      ]
    },
    {
      "cell_type": "code",
      "execution_count": null,
      "metadata": {
        "id": "vVyjrV1LHw5g"
      },
      "outputs": [],
      "source": [
        "# incorrecto\n",
        "num_int = 123     # int type\n",
        "num_str = \"456\"   # str type\n",
        "\n",
        "print(num_int+num_str)"
      ]
    },
    {
      "cell_type": "markdown",
      "metadata": {
        "id": "-_Hb6hJZHw5h"
      },
      "source": [
        "#### Explícito"
      ]
    },
    {
      "cell_type": "code",
      "execution_count": null,
      "metadata": {
        "id": "-4DoRlhbHw5h"
      },
      "outputs": [],
      "source": [
        "num_int = 123  # int type\n",
        "num_str = \"456\" # str type\n",
        "\n",
        "# explicitly converted to int type\n",
        "num_str = int(num_str) \n",
        "\n",
        "print(num_int+num_str)"
      ]
    },
    {
      "cell_type": "markdown",
      "metadata": {
        "id": "3i3JcflxHw5h"
      },
      "source": [
        "### Python tipos numéricos\n",
        "\n",
        "Python admite enteros, números de coma flotante y números complejos. Se definen como int, float y clase compleja en Python. Además de eso, los booleanos: verdadero y falso son un subtipo de enteros."
      ]
    },
    {
      "cell_type": "code",
      "execution_count": null,
      "metadata": {
        "id": "tty2kIH4Hw5i"
      },
      "outputs": [],
      "source": [
        "print(type(5))\n",
        "\n",
        "# Output: <class>\n",
        "print(type(5.0))\n",
        "\n",
        "# <class>\n",
        "c = 5 + 3j\n",
        "print(type(c))"
      ]
    },
    {
      "cell_type": "markdown",
      "metadata": {
        "id": "-vTBlhYtHw5i"
      },
      "source": [
        "### Manejo de excepciones de Python\n",
        "\n",
        "Los errores que se producen en tiempo de ejecución se denominan excepciones. Ocurren, por ejemplo, cuando un archivo que intentamos abrir no existe *FileNotFoundError*, dividiendo un número por cero *ZeroDivisionError*, etc.\n",
        "\n",
        "Si no se manejan las excepciones, se escupe un mensaje de error y nuestro programa se detiene repentinamente e inesperadamente.\n",
        "\n",
        "En Python, las excepciones se pueden manejar usando la declaración try. Cuando se detectan excepciones, depende de usted qué operador realizar."
      ]
    },
    {
      "cell_type": "code",
      "execution_count": null,
      "metadata": {
        "id": "X-RUPC6YHw5i"
      },
      "outputs": [],
      "source": [
        "# importar modulo sys\n",
        "import sys\n",
        "\n",
        "lista_random = ['a', 0, 2]\n",
        "\n",
        "for elemento in lista_random:\n",
        "    try:\n",
        "        print(\"La entrada es \", elemento)\n",
        "        r = 1/int(elemento)\n",
        "        break\n",
        "    except:\n",
        "        print(\"Oops! ocurrio un\",sys.exc_info()[0])\n",
        "        print(\"Siguiente entrada.\")\n",
        "        print()\n",
        "        \n",
        "print(\"El reciproco de\",elemento,\"es\",r)"
      ]
    },
    {
      "cell_type": "markdown",
      "metadata": {
        "id": "tpCb1uDCHw5j"
      },
      "source": [
        "Algunas Excepciones Comunes\n",
        "\n",
        "* **NameError**: Esta excepción es levantada cuando el programa no puede encontrar un nombre local o global. El nombre que podría no ser encontrado está incluido en el mensaje de error.\n",
        "* **TypeError**: Esta excepción es levantada cuando una función se le pasa un objeto del tipo inapropiado como su argumento. Más detalles sobre el tipo incorrecto son proporcionados en el mensaje de error.\n",
        "* **ValueError**: Esta excepción ocurre cuando un argumento de función tiene el tipo correcto pero un valor inapropiado.\n",
        "* **NotImplementedError**: Esta excepción es levantada cuando se supone que un objeto apoye una operación pero no ha sido implementado aún. No deberías usar este error cuando la función dada no deba apoyar al tipo de argumento de entrada. En esas situaciones, levantar una excepción TypeError es más apropiado.\n",
        "* **ZeroDivisionError**: Esta excepción es levantada cuando proporcionas el segundo argumento para una operación de división o módulo como cero.\n",
        "* **FileNotFoundError**: Esta excepción es levantada cuando el archivo o diccionario que el programa solicitó no existe."
      ]
    },
    {
      "cell_type": "markdown",
      "metadata": {
        "id": "jaAIsB9oHw5j"
      },
      "source": [
        "### Aserciones en python\n",
        "\n",
        "Las aserciones  son expresiones booleanas que comprueban si las condiciones devuelven verdaderas o no. Si es cierto, el programa no hace nada y pasa a la siguiente línea de código. Sin embargo, si es falso, el programa se detiene y arroja un error.\n",
        "\n",
        "Las aserciones son importantes al momento de realizar **tests unitarios** o asegurar que un resultado siempre sea el mismo.\n",
        "\n",
        "<img src=\"https://cdn.programiz.com/sites/tutorial2program/files/Python%20Assert%20Statement.jpg\" width=\"480\" height=\"480\" align=\"center\"/>"
      ]
    },
    {
      "cell_type": "code",
      "execution_count": null,
      "metadata": {
        "id": "uE_VnU0aHw5j"
      },
      "outputs": [],
      "source": [
        "# definir funcion\n",
        "def suma(x,y):\n",
        "    return x+y"
      ]
    },
    {
      "cell_type": "code",
      "execution_count": null,
      "metadata": {
        "id": "oioEL6X7Hw5j"
      },
      "outputs": [],
      "source": [
        "# ejemplo correcto\n",
        "assert suma(1,1)==2, \"ejemplo invalido\""
      ]
    },
    {
      "cell_type": "code",
      "execution_count": null,
      "metadata": {
        "id": "jKmu77Z6Hw5k"
      },
      "outputs": [],
      "source": [
        "# ejemplo incorrecto\n",
        "assert suma(1,1)==3, \"ejemplo invalido\""
      ]
    },
    {
      "cell_type": "markdown",
      "metadata": {
        "id": "_XoqLMg_Hw5k"
      },
      "source": [
        "<a id='sub2'></a>\n",
        "##  Estructura de datos"
      ]
    },
    {
      "cell_type": "markdown",
      "metadata": {
        "id": "g12mvnmZHw5k"
      },
      "source": [
        "### Listas\n",
        "\n",
        "Se crea una lista colocando todos los elementos (elementos) dentro de un corchete [] separados por comas."
      ]
    },
    {
      "cell_type": "code",
      "execution_count": null,
      "metadata": {
        "id": "M3kufR7lHw5k"
      },
      "outputs": [],
      "source": [
        "# lista vacia\n",
        "lista = []\n",
        "# lista de enteros\n",
        "lista = [1, 2, 3]\n",
        "# lista mixta\n",
        "lista = [1, \"hola\", 3.4]"
      ]
    },
    {
      "cell_type": "markdown",
      "metadata": {
        "id": "SaTXCj4yHw5k"
      },
      "source": [
        "También, se pueden acceder a cada uno de sus eleentos"
      ]
    },
    {
      "cell_type": "code",
      "execution_count": null,
      "metadata": {
        "id": "pRRP3J_xHw5k"
      },
      "outputs": [],
      "source": [
        "numeros = [\"uno\", \"dos\", \"tres\", \"cuatro\"]\n",
        "\n",
        "# acceder al primer elemento\n",
        "print(numeros[0])\n",
        "\n",
        "\n",
        "# acceder al cuarto elemento\n",
        "print(numeros[1:3])"
      ]
    },
    {
      "cell_type": "markdown",
      "metadata": {
        "id": "zqw8Cm57Hw5k"
      },
      "source": [
        "### Tuplas\n",
        "\n",
        "La tupla es similar a una lista, excepto que no puede cambiar los elementos de una tupla una vez que está definida. Mientras que en una lista, los elementos se pueden modificar."
      ]
    },
    {
      "cell_type": "code",
      "execution_count": null,
      "metadata": {
        "id": "Yjk7qU5jHw5l"
      },
      "outputs": [],
      "source": [
        "numeros = (\"uno\", \"dos\", \"tres\", \"cuatro\")\n",
        "print(numeros)"
      ]
    },
    {
      "cell_type": "code",
      "execution_count": null,
      "metadata": {
        "id": "2cHhFasKHw5l"
      },
      "outputs": [],
      "source": [
        "numeros = (\"uno\", \"dos\", \"tres\", \"cuatro\")\n",
        "\n",
        "print(numeros[1]) #Output: dos\n",
        "print(numeros[3]) #Output: cuatro\n",
        "print(numeros[-1]) # Output: cuatro"
      ]
    },
    {
      "cell_type": "markdown",
      "metadata": {
        "id": "XzP1R0zAHw5l"
      },
      "source": [
        "### Conjuntos\n",
        "\n",
        "Un conjunto es una colección desordenada de elementos donde cada elemento es único (sin duplicados).\n"
      ]
    },
    {
      "cell_type": "code",
      "execution_count": null,
      "metadata": {
        "id": "L9mYdDiFHw5l"
      },
      "outputs": [],
      "source": [
        "# conjunto de enteros\n",
        "conjunto = {1, 2, 3}\n",
        "print(conjunto)\n",
        "\n",
        "# conjunto mixto\n",
        "conjunto = {1.0, \"hola\", (1, 2, 3)}\n",
        "print(conjunto)"
      ]
    },
    {
      "cell_type": "code",
      "execution_count": null,
      "metadata": {
        "id": "rBtewCWJHw5l"
      },
      "outputs": [],
      "source": [
        "# conjunto de enteros\n",
        "conjunto = {1, 2, 3}\n",
        "\n",
        "conjunto.add(4)\n",
        "print(conjunto) # Output: {1, 2, 3, 4}\n",
        "\n",
        "conjunto.add(2)\n",
        "print(conjunto) # Output: {1, 2, 3, 4}\n",
        "\n",
        "conjunto.update([3, 4, 5])\n",
        "print(conjunto) # Output: {1, 2, 3, 4, 5}\n",
        "\n",
        "conjunto.remove(4)\n",
        "print(conjunto) # Output: {1, 2, 3, 5}"
      ]
    },
    {
      "cell_type": "markdown",
      "metadata": {
        "id": "ekZjmYEyHw5l"
      },
      "source": [
        "### Diccionarios\n",
        "\n",
        "Los diccionarios en Python son un tipo de estructuras de datos que permite guardar un conjunto no ordenado de pares clave-valor, siendo las claves únicas dentro de un mismo diccionario (es decir que no pueden existir dos elementos con una misma clave)"
      ]
    },
    {
      "cell_type": "code",
      "execution_count": null,
      "metadata": {
        "id": "4BZ9z1OuHw5m"
      },
      "outputs": [],
      "source": [
        "# diccionario vacio\n",
        "dct = {}\n",
        "\n",
        "# diccionario de enteros\n",
        "dct = {1: 'apple', 2: 'ball'}\n",
        "\n",
        "# diccionario dde llaves mixtas\n",
        "dct = {'name': 'John', 1: [2, 4, 3]}"
      ]
    },
    {
      "cell_type": "code",
      "execution_count": null,
      "metadata": {
        "id": "GqWB8roiHw5m"
      },
      "outputs": [],
      "source": [
        "dct = {'nombre':'Jack', 'edad': 26, 'salario': 4534.2}\n",
        "print(dct['edad']) # Output: 26"
      ]
    },
    {
      "cell_type": "code",
      "execution_count": null,
      "metadata": {
        "id": "vmQyUoHIHw5m"
      },
      "outputs": [],
      "source": [
        "dct = {'nombre':'Jack', 'edad': 26}\n",
        "\n",
        "# cambiar edad\n",
        "dct['edad'] = 36 \n",
        "print(dct) # Output: {'name': 'Jack', 'age': 36}\n",
        "\n",
        "# adherir llave salario\n",
        "dct['salario'] = 4342.4\n",
        "print(dct) # Output: {'name': 'Jack', 'age': 36, 'salary': 4342.4}\n",
        "\n",
        "\n",
        "# borrar llave edad\n",
        "del dct['edad']\n",
        "print(dct) # Output: {'name': 'Jack', 'salary': 4342.4}\n",
        "\n",
        "# borrar diccionario\n",
        "del dct"
      ]
    },
    {
      "cell_type": "markdown",
      "metadata": {
        "id": "iY0b_FqbHw5m"
      },
      "source": [
        "### Python range()\n",
        "\n",
        "`range()` devuelve una secuencia inmutable de números entre el entero de inicio dado al entero de parada."
      ]
    },
    {
      "cell_type": "code",
      "execution_count": null,
      "metadata": {
        "id": "AZLksWCqHw5m"
      },
      "outputs": [],
      "source": [
        "print(range(1, 10)) # Output: range(1, 10)"
      ]
    },
    {
      "cell_type": "markdown",
      "metadata": {
        "id": "6up80BcPHw5m"
      },
      "source": [
        "El resultado es iterable y puede convertirlo en list, tuple, set, etc. Por ejemplo:"
      ]
    },
    {
      "cell_type": "code",
      "execution_count": null,
      "metadata": {
        "id": "44Cz401WHw5m"
      },
      "outputs": [],
      "source": [
        "numeros = range(1, 6)\n",
        "\n",
        "print(list(numeros)) # Output: [1, 2, 3, 4, 5]\n",
        "print(tuple(numeros)) # Output: (1, 2, 3, 4, 5)\n",
        "print(set(numeros)) # Output: {1, 2, 3, 4, 5}\n",
        "\n",
        "# Output: {1: 99, 2: 99, 3: 99, 4: 99, 5: 99} \n",
        "print(dict.fromkeys(numeros, 99))"
      ]
    },
    {
      "cell_type": "markdown",
      "metadata": {
        "id": "ZzzTDYUCHw5n"
      },
      "source": [
        "Hemos omitido el parámetro de *step* opcional para *range()* en los ejemplos anteriores. Cuando se omite, el paso predeterminado es 1. Probemos algunos ejemplos con el parámetro de paso."
      ]
    },
    {
      "cell_type": "code",
      "execution_count": null,
      "metadata": {
        "id": "Wkd7l4rWHw5n"
      },
      "outputs": [],
      "source": [
        "numero1 = range(1, 6 , 1)\n",
        "print(list(numero1)) # Output: [1, 2, 3, 4, 5]\n",
        "\n",
        "numero2 = range(1, 6, 2)\n",
        "print(list(numero2)) # Output: [1, 3, 5]\n",
        "\n",
        "numero3 = range(5, 0, -1)\n",
        "print(list(numero3)) # Output: [5, 4, 3, 2, 1]"
      ]
    },
    {
      "cell_type": "markdown",
      "metadata": {
        "id": "V6Hb4iwXHw5n"
      },
      "source": [
        "<a id='sub3'></a>\n",
        "## Control de Flujo\n",
        "\n",
        "### if, elif,..., else\n",
        "La instrucción if ... else se usa si desea realizar una acción diferente (ejecutar un código diferente) en diferentes condiciones. Por ejemplo:"
      ]
    },
    {
      "cell_type": "code",
      "execution_count": null,
      "metadata": {
        "id": "2gbeFMx1Hw5n"
      },
      "outputs": [],
      "source": [
        "num = -1\n",
        "\n",
        "if num > 0:\n",
        "    print(\"numero positivo\")\n",
        "elif num == 0:\n",
        "    print(\"cero\")\n",
        "else:\n",
        "    print(\"numero negativo\")\n",
        "    \n",
        "# Output: numero negativo"
      ]
    },
    {
      "cell_type": "markdown",
      "metadata": {
        "id": "we2uU-1RHw5n"
      },
      "source": [
        "Puede haber cero o más partes elif, y la parte else es opcional. La mayoría de los lenguajes de programación usan {} para especificar el bloque de código. Python usa sangría.\n",
        "\n",
        "Un bloque de código comienza con sangría y termina con la primera línea sin sangría. La cantidad de sangría depende de usted, pero debe ser consistente a lo largo de ese bloque. En general, se utilizan cuatro espacios en blanco para la sangría y se prefieren a las pestañas.\n",
        "\n",
        "Probemos con otro ejemplo:"
      ]
    },
    {
      "cell_type": "code",
      "execution_count": null,
      "metadata": {
        "id": "L4O5_DNYHw5n"
      },
      "outputs": [],
      "source": [
        "if False:\n",
        "    print(\"Hola\")\n",
        "    print(\"mundo\")\n",
        "print(\"!!!\")\n",
        "\n",
        "# Output: !!!"
      ]
    },
    {
      "cell_type": "markdown",
      "metadata": {
        "id": "kHPKfuzzHw5n"
      },
      "source": [
        "### While Loop\n",
        "\n",
        "Al igual que la mayoría de los lenguajes de programación, el loop se usa para iterar sobre un bloque de código siempre que la expresión de prueba (condición) sea verdadera. Aquí hay un ejemplo para encontrar la suma de números naturales:"
      ]
    },
    {
      "cell_type": "code",
      "execution_count": null,
      "metadata": {
        "id": "IUoh94gQHw5o"
      },
      "outputs": [],
      "source": [
        "n = 100\n",
        "\n",
        "# inicializar contador\n",
        "sum = 0\n",
        "i = 1\n",
        "\n",
        "while i <= n:\n",
        "    sum = sum + i\n",
        "    i = i+1    # actualizar contador\n",
        "\n",
        "print(\"La suma es\", sum)\n",
        "\n",
        "# Output: La suma es"
      ]
    },
    {
      "cell_type": "markdown",
      "metadata": {
        "id": "7kbIr3xcHw5o"
      },
      "source": [
        "###  For Loop\n",
        "\n",
        "En Python, for loop se usa para iterar sobre una secuencia (lista, tupla, cadena) u otros objetos iterables. Iterar sobre una secuencia se llama transversal.\n",
        "\n",
        "Aquí hay un ejemplo para encontrar la suma de todos los números almacenados en una lista.\n"
      ]
    },
    {
      "cell_type": "code",
      "execution_count": null,
      "metadata": {
        "id": "d4QzrPRKHw5o"
      },
      "outputs": [],
      "source": [
        "numbers = [6, 5, 3, 8, 4, 2]\n",
        "\n",
        "sum = 0\n",
        "\n",
        "# iterar sobre la lista\n",
        "for val in numbers:\n",
        "    sum = sum+val\n",
        "\n",
        "print(\"La suma es\", sum) # Output: La suma es 28"
      ]
    },
    {
      "cell_type": "markdown",
      "metadata": {
        "id": "g6hfpSUaHw5o"
      },
      "source": [
        "### Break\n",
        "La declaración *break* termina el ciclo que lo contiene. El control del programa fluye a la declaración inmediatamente después del cuerpo del bucle. Por ejemplo:"
      ]
    },
    {
      "cell_type": "code",
      "execution_count": null,
      "metadata": {
        "id": "_swjP6eQHw5o"
      },
      "outputs": [],
      "source": [
        "for val in \"string\":\n",
        "    if val == \"r\":\n",
        "        break\n",
        "    print(val)\n",
        "\n",
        "print(\"Fin\")"
      ]
    },
    {
      "cell_type": "markdown",
      "metadata": {
        "id": "5qIlFL_7Hw5p"
      },
      "source": [
        "### Continue\n",
        "\n",
        "La instrucción *continue* se usa para omitir el resto del código dentro de un bucle solo para la iteración actual. El bucle no termina pero continúa con la siguiente iteración. Por ejemplo:"
      ]
    },
    {
      "cell_type": "code",
      "execution_count": null,
      "metadata": {
        "id": "y3JsggnaHw5p"
      },
      "outputs": [],
      "source": [
        "for val in \"string\":\n",
        "    if val == \"r\":\n",
        "        continue\n",
        "    print(val)\n",
        "\n",
        "print(\"Fin\")"
      ]
    },
    {
      "cell_type": "markdown",
      "metadata": {
        "id": "Zx6WMRN3Hw5p"
      },
      "source": [
        "### Pass\n",
        "Supongamos que tiene un bucle o una función que aún no está implementada, pero desea implementarla en el futuro. No pueden tener un cuerpo vacío. El intérprete se quejaría. Por lo tanto, utiliza la instrucción *pass* para construir un cuerpo que no hace nada."
      ]
    },
    {
      "cell_type": "code",
      "execution_count": null,
      "metadata": {
        "id": "jgyvpsO-Hw5p"
      },
      "outputs": [],
      "source": [
        "sequence = {'p', 'a', 's', 's'}\n",
        "for val in sequence:\n",
        "    pass"
      ]
    },
    {
      "cell_type": "markdown",
      "metadata": {
        "id": "dy2_Re-MHw5p"
      },
      "source": [
        "<a id='sub4'></a>\n",
        "\n",
        "## Funciones\n",
        "\n",
        "Una función es un grupo de declaraciones relacionadas que realizan una tarea específica. Utiliza la palabra clave *def* para crear funciones en Python.\n"
      ]
    },
    {
      "cell_type": "code",
      "execution_count": null,
      "metadata": {
        "id": "8s4Ps-_HHw5q"
      },
      "outputs": [],
      "source": [
        "def imprimir_lineas():\n",
        "    print(\"linea 1\")\n",
        "    print(\"linea 2\")\n",
        "    \n",
        "# llamar funcion\n",
        "imprimir_lineas()"
      ]
    },
    {
      "cell_type": "markdown",
      "metadata": {
        "id": "1bd0cJ3VHw5q"
      },
      "source": [
        "Una función puede aceptar argumentos."
      ]
    },
    {
      "cell_type": "code",
      "execution_count": null,
      "metadata": {
        "id": "36faKmeOHw5q"
      },
      "outputs": [],
      "source": [
        "def sumar(a, b):\n",
        "    sum = a + b\n",
        "    return sum\n",
        "\n",
        "resultado = sumar(4, 5)\n",
        "print(resultado)\n",
        "\n",
        "# Output: 9"
      ]
    },
    {
      "cell_type": "markdown",
      "metadata": {
        "id": "a9JHtLz2Hw5q"
      },
      "source": [
        "### Recursion\n",
        "\n",
        "Una función que se llama a sí misma se conoce como función recursiva y este proceso se llama recursividad. Cada función recursiva debe tener una condición base que detenga la recursividad o, de lo contrario, la función se llama a sí misma infinitamente."
      ]
    },
    {
      "cell_type": "code",
      "execution_count": null,
      "metadata": {
        "id": "tXPsL6FZHw5q"
      },
      "outputs": [],
      "source": [
        "# funcion factorial (recursivo)\n",
        "\n",
        "def factorial(x):\n",
        "\n",
        "    if x == 1:\n",
        "        return 1\n",
        "    else:\n",
        "        return (x * factorial(x-1))\n",
        "\n",
        "num = 6\n",
        "print(\"El factorial de \", num, \"es\", factorial(num)) \n",
        "\n",
        "# Output: El factorial de  6 es 720"
      ]
    },
    {
      "cell_type": "markdown",
      "metadata": {
        "id": "XxNZfY4xHw5q"
      },
      "source": [
        "### Lambda \n",
        "\n",
        "En Python, puede definir funciones sin nombre. Estas funciones se denominan lambda o función anónima. Para crear una función *lambda*, se utiliza la palabra clave *lambda*."
      ]
    },
    {
      "cell_type": "code",
      "execution_count": null,
      "metadata": {
        "id": "RZuFr8AUHw5q"
      },
      "outputs": [],
      "source": [
        "cuadrado = lambda x: x ** 2\n",
        "print(cuadrado(5))\n",
        "\n",
        "# Output: 25"
      ]
    },
    {
      "cell_type": "markdown",
      "metadata": {
        "id": "-c53XjwZHw5q"
      },
      "source": [
        "### Módulos\n",
        "\n",
        "Los módulos se refieren a un archivo que contiene declaraciones y definiciones de Python. Un archivo que contiene código Python, por ejemplo: ``modulo_01.py``, se llama módulo y su nombre de módulo sería un ejemplo.\n",
        "\n",
        "Permítanos crearlo y guardarlo como modulo_01.py."
      ]
    },
    {
      "cell_type": "code",
      "execution_count": null,
      "metadata": {
        "id": "cvNIoGg9Hw5r"
      },
      "outputs": [],
      "source": [
        "%%writefile modulo_01.py\n",
        "def sumar(a, b):\n",
        "    return a + b"
      ]
    },
    {
      "cell_type": "markdown",
      "metadata": {
        "id": "7-rvTrEdHw5r"
      },
      "source": [
        "Para usar este módulo, usamos la palabra clave *import*."
      ]
    },
    {
      "cell_type": "code",
      "execution_count": null,
      "metadata": {
        "id": "dVAICSHmHw5r"
      },
      "outputs": [],
      "source": [
        "# importar modulo \n",
        "import modulo_01 \n",
        "# acceder a las funciones del modulo\n",
        "modulo_01.sumar(4, 5.5) "
      ]
    },
    {
      "cell_type": "markdown",
      "metadata": {
        "id": "Vu0jz0DOHw5r"
      },
      "source": [
        "También se pueden exportar módulos nativos de python."
      ]
    },
    {
      "cell_type": "code",
      "execution_count": null,
      "metadata": {
        "id": "TrH7pcs1Hw5r"
      },
      "outputs": [],
      "source": [
        "import math\n",
        "\n",
        "resultado = math.log2(5) # retorna logaritmo base 2\n",
        "print(resultado) # Output: 2.321928094887362"
      ]
    },
    {
      "cell_type": "markdown",
      "metadata": {
        "id": "xYMrlcI7Hw5r"
      },
      "source": [
        "Python tiene una tonelada de módulos estándar fácilmente disponibles para su uso. Por ejemplo:"
      ]
    },
    {
      "cell_type": "code",
      "execution_count": null,
      "metadata": {
        "id": "2vjE3calHw5r"
      },
      "outputs": [],
      "source": [
        "from math import pi\n",
        "print(\"El valor de pi es\", pi)\n",
        "\n",
        "# Output: The value of pi is 3.141592653589793"
      ]
    },
    {
      "cell_type": "markdown",
      "metadata": {
        "id": "83KC5aw0Hw5s"
      },
      "source": [
        "<a id='sub5'></a>\n",
        "\n",
        "## Programación orientada a objetos (OOP)\n",
        "\n",
        "Todo en Python es un objeto que incluye enteros, flotantes, funciones, clases y Ninguno. No nos centremos en por qué todo en Python es un objeto. Para eso, visite esta página. Más bien, esta sección se enfoca en crear sus propias clases y objetos.\n",
        "\n",
        "### Clase y objetos\n",
        "El objeto es simplemente una colección de datos (variables) y métodos (funciones) que actúan sobre los datos. Y, la clase es un modelo para el objeto.\n",
        "\n",
        "Tan pronto como defina una clase, se crea un nuevo objeto de clase con el mismo nombre. Este objeto de clase nos permite acceder a los diferentes atributos, así como crear instancias de nuevos objetos de esa clase.\n"
      ]
    },
    {
      "cell_type": "code",
      "execution_count": null,
      "metadata": {
        "id": "YaC3SwYuHw5s"
      },
      "outputs": [],
      "source": [
        "class Mi_clase:\n",
        "    \"Esta es mi clase\"\n",
        "    a = 10\n",
        "    def func(self):\n",
        "        print('hola')\n",
        "\n",
        "# Output: 10\n",
        "print(Mi_clase.a)\n",
        "\n",
        "# Output: <function 0x0000000003079bf8=\"\" at=\"\" myclass.func=\"\">\n",
        "print(Mi_clase.func)\n",
        "\n",
        "# Output: 'Esta es mi clase'\n",
        "print(Mi_clase.__doc__)"
      ]
    },
    {
      "cell_type": "markdown",
      "metadata": {
        "id": "U2q9YqG7Hw5s"
      },
      "source": [
        "Es posible que haya notado el parámetro *self* en la definición de la función dentro de la clase, pero llamamos al método simplemente como *ob.func()* sin ningún argumento. Aún funcionó.\n",
        "\n",
        "Esto se debe a que, cada vez que un objeto llama a su método, el objeto mismo se pasa como primer argumento. Entonces, *ob.func()* se traduce en *Mi_clase.func(ob)*.\n",
        "\n",
        "### Creando objetos\n",
        "También puede crear objetos de la clase usted mismo."
      ]
    },
    {
      "cell_type": "code",
      "execution_count": null,
      "metadata": {
        "id": "8W09A97WHw5s"
      },
      "outputs": [],
      "source": [
        "class Mi_clase:\n",
        "    \"Esta es mi clase\"\n",
        "    a = 10\n",
        "    def func(self):\n",
        "        print('hola')\n",
        "\n",
        "obj1 = Mi_clase()\n",
        "print(obj1.a)        # Output: 10\n",
        " \n",
        "obj2 = Mi_clase()\n",
        "print(obj1.a + 5)    # Output: 15"
      ]
    },
    {
      "cell_type": "markdown",
      "metadata": {
        "id": "s0EtM1QmHw5s"
      },
      "source": [
        "### Constructores de Python\n",
        "\n",
        "En Python, un método con el nombre *__init () __*  es un constructor. Este método se llama automáticamente cuando se instancia un objeto."
      ]
    },
    {
      "cell_type": "code",
      "execution_count": null,
      "metadata": {
        "id": "lJPpHSXeHw5s"
      },
      "outputs": [],
      "source": [
        "class NumerosComplejos:\n",
        "    def __init__(self,r = 0,i = 0):  # constructor\n",
        "        self.real = r\n",
        "        self.imag = i\n",
        "\n",
        "    def obtener_datos(self):\n",
        "        print(\"{0}+{1}j\".format(self.real,self.imag))\n",
        "\n",
        "\n",
        "c1 = NumerosComplejos(2,3) # crear el objeto NumerosComplejos\n",
        "c1.obtener_datos() # Output: 2+3j\n",
        "\n",
        "c2 = NumerosComplejos() # crear un nuevo objeto NumerosComplejos\n",
        "c2.obtener_datos() # Output: 0+0j"
      ]
    },
    {
      "cell_type": "markdown",
      "metadata": {
        "id": "YTZLYtG0Hw5s"
      },
      "source": [
        "### Herencia de Python\n",
        "La herencia se refiere a definir una nueva clase con poca o ninguna modificación a una clase existente. Tomemos un ejemplo:"
      ]
    },
    {
      "cell_type": "code",
      "execution_count": null,
      "metadata": {
        "id": "XipAZIT-Hw5s"
      },
      "outputs": [],
      "source": [
        "class Mamifero:\n",
        "    def caracteristicas(self):\n",
        "        print ('Mamífero es un animal de sangre caliente')"
      ]
    },
    {
      "cell_type": "markdown",
      "metadata": {
        "id": "eh2s2cNEHw5t"
      },
      "source": [
        "Derivemos una nueva clase Perro de esta clase *Mamifero*."
      ]
    },
    {
      "cell_type": "code",
      "execution_count": null,
      "metadata": {
        "id": "OqkEPowcHw5t"
      },
      "outputs": [],
      "source": [
        "class Mamifero:\n",
        "    def caracteristicas_mamifero(self):\n",
        "        print ('Mamífero es un animal de sangre caliente')\n",
        "\n",
        "class Perro(Mamifero):\n",
        "    def caracteristicas_perro(self):\n",
        "        print('El perro ladra')\n",
        "\n",
        "d = Perro()\n",
        "d.caracteristicas_perro()\n",
        "d.caracteristicas_mamifero()"
      ]
    },
    {
      "cell_type": "markdown",
      "metadata": {
        "id": "hepMCeNfHw5t"
      },
      "source": [
        "## Decoradores\n",
        "Python tiene una característica interesante llamada decoradores para agregar funcionalidad a un código existente.\n",
        "Esto también se llama metaprogramación ya que una parte del programa intenta modificar otra parte del programa en tiempo de compilación."
      ]
    },
    {
      "cell_type": "code",
      "execution_count": null,
      "metadata": {
        "id": "q0QHNfHaHw5t"
      },
      "outputs": [],
      "source": [
        "def debug(f):\n",
        "    def nueva_funcion(a, b):\n",
        "        print(\"La funcion Sumar es llamada!!!\")\n",
        "        return f(a, b)\n",
        "    return nueva_funcion\n",
        "\n",
        "\n",
        "@debug # decorador\n",
        "def Sumar(a, b):\n",
        "    return a + b\n",
        "print(Sumar(7, 5))"
      ]
    },
    {
      "cell_type": "markdown",
      "metadata": {
        "id": "nx7QbcG5Hw5t"
      },
      "source": [
        "## Referencia\n",
        "\n",
        "1. [Introducción al lenguaje Python](https://entrenamiento-python-basico.readthedocs.io/es/latest/leccion1/)\n",
        "2. [Introducción — Tutorial de Python 3.6.3 documentation](http://docs.python.org.ar/tutorial/3/real-index.html)"
      ]
    },
    {
      "cell_type": "code",
      "source": [
        "import pandas as pd"
      ],
      "metadata": {
        "id": "KkwGf4b1HydY"
      },
      "execution_count": 1,
      "outputs": []
    },
    {
      "cell_type": "code",
      "source": [
        "df = pd.DataFrame({\n",
        "    'col1':[1,2,3],\n",
        "    'col2':[1,3,4]\n",
        "})"
      ],
      "metadata": {
        "id": "wHUhmhOnH0O0"
      },
      "execution_count": 2,
      "outputs": []
    },
    {
      "cell_type": "code",
      "source": [
        "print(df)"
      ],
      "metadata": {
        "id": "0m6GYJHOH7UO",
        "outputId": "f0105111-925c-455f-caad-37a79e172334",
        "colab": {
          "base_uri": "https://localhost:8080/"
        }
      },
      "execution_count": 4,
      "outputs": [
        {
          "output_type": "stream",
          "name": "stdout",
          "text": [
            "   col1  col2\n",
            "0     1     1\n",
            "1     2     3\n",
            "2     3     4\n"
          ]
        }
      ]
    },
    {
      "cell_type": "code",
      "source": [
        "df"
      ],
      "metadata": {
        "id": "OOiO8nNhH73P",
        "outputId": "dc493ae4-6dbb-47da-8fa0-6d56ef0b3166",
        "colab": {
          "base_uri": "https://localhost:8080/",
          "height": 143
        }
      },
      "execution_count": 5,
      "outputs": [
        {
          "output_type": "execute_result",
          "data": {
            "text/plain": [
              "   col1  col2\n",
              "0     1     1\n",
              "1     2     3\n",
              "2     3     4"
            ],
            "text/html": [
              "\n",
              "  <div id=\"df-c14af3a8-c861-4330-af2a-c1e8af133418\">\n",
              "    <div class=\"colab-df-container\">\n",
              "      <div>\n",
              "<style scoped>\n",
              "    .dataframe tbody tr th:only-of-type {\n",
              "        vertical-align: middle;\n",
              "    }\n",
              "\n",
              "    .dataframe tbody tr th {\n",
              "        vertical-align: top;\n",
              "    }\n",
              "\n",
              "    .dataframe thead th {\n",
              "        text-align: right;\n",
              "    }\n",
              "</style>\n",
              "<table border=\"1\" class=\"dataframe\">\n",
              "  <thead>\n",
              "    <tr style=\"text-align: right;\">\n",
              "      <th></th>\n",
              "      <th>col1</th>\n",
              "      <th>col2</th>\n",
              "    </tr>\n",
              "  </thead>\n",
              "  <tbody>\n",
              "    <tr>\n",
              "      <th>0</th>\n",
              "      <td>1</td>\n",
              "      <td>1</td>\n",
              "    </tr>\n",
              "    <tr>\n",
              "      <th>1</th>\n",
              "      <td>2</td>\n",
              "      <td>3</td>\n",
              "    </tr>\n",
              "    <tr>\n",
              "      <th>2</th>\n",
              "      <td>3</td>\n",
              "      <td>4</td>\n",
              "    </tr>\n",
              "  </tbody>\n",
              "</table>\n",
              "</div>\n",
              "      <button class=\"colab-df-convert\" onclick=\"convertToInteractive('df-c14af3a8-c861-4330-af2a-c1e8af133418')\"\n",
              "              title=\"Convert this dataframe to an interactive table.\"\n",
              "              style=\"display:none;\">\n",
              "        \n",
              "  <svg xmlns=\"http://www.w3.org/2000/svg\" height=\"24px\"viewBox=\"0 0 24 24\"\n",
              "       width=\"24px\">\n",
              "    <path d=\"M0 0h24v24H0V0z\" fill=\"none\"/>\n",
              "    <path d=\"M18.56 5.44l.94 2.06.94-2.06 2.06-.94-2.06-.94-.94-2.06-.94 2.06-2.06.94zm-11 1L8.5 8.5l.94-2.06 2.06-.94-2.06-.94L8.5 2.5l-.94 2.06-2.06.94zm10 10l.94 2.06.94-2.06 2.06-.94-2.06-.94-.94-2.06-.94 2.06-2.06.94z\"/><path d=\"M17.41 7.96l-1.37-1.37c-.4-.4-.92-.59-1.43-.59-.52 0-1.04.2-1.43.59L10.3 9.45l-7.72 7.72c-.78.78-.78 2.05 0 2.83L4 21.41c.39.39.9.59 1.41.59.51 0 1.02-.2 1.41-.59l7.78-7.78 2.81-2.81c.8-.78.8-2.07 0-2.86zM5.41 20L4 18.59l7.72-7.72 1.47 1.35L5.41 20z\"/>\n",
              "  </svg>\n",
              "      </button>\n",
              "      \n",
              "  <style>\n",
              "    .colab-df-container {\n",
              "      display:flex;\n",
              "      flex-wrap:wrap;\n",
              "      gap: 12px;\n",
              "    }\n",
              "\n",
              "    .colab-df-convert {\n",
              "      background-color: #E8F0FE;\n",
              "      border: none;\n",
              "      border-radius: 50%;\n",
              "      cursor: pointer;\n",
              "      display: none;\n",
              "      fill: #1967D2;\n",
              "      height: 32px;\n",
              "      padding: 0 0 0 0;\n",
              "      width: 32px;\n",
              "    }\n",
              "\n",
              "    .colab-df-convert:hover {\n",
              "      background-color: #E2EBFA;\n",
              "      box-shadow: 0px 1px 2px rgba(60, 64, 67, 0.3), 0px 1px 3px 1px rgba(60, 64, 67, 0.15);\n",
              "      fill: #174EA6;\n",
              "    }\n",
              "\n",
              "    [theme=dark] .colab-df-convert {\n",
              "      background-color: #3B4455;\n",
              "      fill: #D2E3FC;\n",
              "    }\n",
              "\n",
              "    [theme=dark] .colab-df-convert:hover {\n",
              "      background-color: #434B5C;\n",
              "      box-shadow: 0px 1px 3px 1px rgba(0, 0, 0, 0.15);\n",
              "      filter: drop-shadow(0px 1px 2px rgba(0, 0, 0, 0.3));\n",
              "      fill: #FFFFFF;\n",
              "    }\n",
              "  </style>\n",
              "\n",
              "      <script>\n",
              "        const buttonEl =\n",
              "          document.querySelector('#df-c14af3a8-c861-4330-af2a-c1e8af133418 button.colab-df-convert');\n",
              "        buttonEl.style.display =\n",
              "          google.colab.kernel.accessAllowed ? 'block' : 'none';\n",
              "\n",
              "        async function convertToInteractive(key) {\n",
              "          const element = document.querySelector('#df-c14af3a8-c861-4330-af2a-c1e8af133418');\n",
              "          const dataTable =\n",
              "            await google.colab.kernel.invokeFunction('convertToInteractive',\n",
              "                                                     [key], {});\n",
              "          if (!dataTable) return;\n",
              "\n",
              "          const docLinkHtml = 'Like what you see? Visit the ' +\n",
              "            '<a target=\"_blank\" href=https://colab.research.google.com/notebooks/data_table.ipynb>data table notebook</a>'\n",
              "            + ' to learn more about interactive tables.';\n",
              "          element.innerHTML = '';\n",
              "          dataTable['output_type'] = 'display_data';\n",
              "          await google.colab.output.renderOutput(dataTable, element);\n",
              "          const docLink = document.createElement('div');\n",
              "          docLink.innerHTML = docLinkHtml;\n",
              "          element.appendChild(docLink);\n",
              "        }\n",
              "      </script>\n",
              "    </div>\n",
              "  </div>\n",
              "  "
            ]
          },
          "metadata": {},
          "execution_count": 5
        }
      ]
    },
    {
      "cell_type": "code",
      "source": [
        ""
      ],
      "metadata": {
        "id": "1f100ua4IClP"
      },
      "execution_count": null,
      "outputs": []
    }
  ],
  "metadata": {
    "kernelspec": {
      "display_name": "Python 3",
      "language": "python",
      "name": "python3"
    },
    "language_info": {
      "codemirror_mode": {
        "name": "ipython",
        "version": 3
      },
      "file_extension": ".py",
      "mimetype": "text/x-python",
      "name": "python",
      "nbconvert_exporter": "python",
      "pygments_lexer": "ipython3",
      "version": "3.8.10"
    },
    "colab": {
      "name": "lecture_012_python.ipynb",
      "provenance": []
    }
  },
  "nbformat": 4,
  "nbformat_minor": 0
}