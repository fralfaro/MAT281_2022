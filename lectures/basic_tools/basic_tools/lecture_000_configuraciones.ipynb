{
 "cells": [
  {
   "cell_type": "markdown",
   "id": "0912dc48",
   "metadata": {},
   "source": [
    "# Configuraciones"
   ]
  },
  {
   "cell_type": "markdown",
   "id": "9388cdb3",
   "metadata": {},
   "source": [
    "## Git\n",
    "\n",
    "Puede descargar el instalador en la [página oficial](https://git-scm.com/downloads) (escoger el sistema operativo correspondiente).\n",
    "\n",
    "Para validar si tu instalación fue correcta, debes ejecutar en la terminal:\n",
    " ```\n",
    " git --version\n",
    " ```\n",
    "Usuarios de Windows que no agregaron Git al `PATH` tendrán que utilizar la terminal `Git Bash`."
   ]
  },
  {
   "cell_type": "markdown",
   "id": "bf331d14",
   "metadata": {},
   "source": [
    "## GitHub\n",
    "\n",
    "* Utilizando tu correo institucional puedes registrarte a través de [GitHub Student Developer Pack](https://education.github.com/pack), con el cual puedes acceder a repositorios privados, entre otras cosas. En caso contrario, puedes crear una cuenta directamente en el [sitio oficial](https://github.com/)."
   ]
  },
  {
   "cell_type": "markdown",
   "id": "db092ddc",
   "metadata": {},
   "source": [
    "## Virtual Enviroments\n",
    "\n",
    "### Conda\n",
    "\n",
    "* Seguir la instalación regular de desde la [documentación oficial](https://docs.conda.io/projects/conda/en/latest/user-guide/install/) según tu sistema operativo.\n",
    "* Instalar **Miniconda**\n",
    "    - **Windows**: En su menú de inicio tendrán dos nuevos programas **Anaconda Prompt** y **Anaconda Powershell Prompt**, pueden ocupar cualquiera. Personalmente prefiero `Powershell`.\n",
    "    - **Linux**: En la instalación se recomienda agregar `conda` al `PATH`. Si cada vez que inicias una terminal vez el texto `(base)` al comienzo, debes ejecutar `conda config --set auto_activate_base false` y luego cada vez que quieras utilizar conda debes ejecutar `conda activate`.\n",
    "    \n",
    "### Poetry \n",
    "\n",
    "Poetry proporciona un instalador personalizado que instalará poetry aislado del resto de su sistema al vender sus dependencias. Esta es la forma recomendada de instalar poesía.\n",
    "\n",
    "* **osx/linux/bashonwindows**\n",
    "```terminal\n",
    "curl -sSL https://raw.githubusercontent.com/python-poetry/poetry/master/get-poetry.py | python -\n",
    "```\n",
    "\n",
    "* **windows powershell**\n",
    "```terminal\n",
    "(Invoke-WebRequest -Uri https://raw.githubusercontent.com/python-poetry/poetry/master/get-poetry.py -UseBasicParsing).Content | python -\n",
    "```\n",
    "\n",
    "## Pycharm\n",
    "\n",
    "Se recomienda ocupar el IDE de Pycharm. Puede descargar el instalador en la [página oficial](https://www.jetbrains.com/pycharm/download/#section=linux) (escoger el sistema operativo correspondiente). \n",
    "Existen dos versiones: **Professional** (Pagado) y **Comunnity** (Gratis). Para efectos de este tutorial con la versión **Comunnity** será suficiente.\n",
    "\n",
    "```{note}\n",
    "No es estrictamente necesario instalarlo, pero facilita bastante aspecto códificación con Python y cosas de versionamiento.\n",
    "```\n",
    "\n",
    "## Entorno de trabajo\n",
    "\n",
    "* Clonar el repositorio oficial de este tutorial: \n",
    "```\n",
    "git clone https://gitlab.com/FAAM/basic_tools\n",
    "```\n",
    "en alguna carpeta que estimes conveniente."
   ]
  },
  {
   "cell_type": "markdown",
   "id": "3065c4e4",
   "metadata": {},
   "source": [
    "* Para crear el entorno virtual ejecuta el siguiente comando\n",
    "    * **Conda**:\n",
    "        * **Crear ambiente virtual**: `conda env create -f environment.yml --yes`\n",
    "        * **Activar ambiente virtual**: `conda activate NAME_ENV`\n",
    "\n",
    "    * **Poetry**:\n",
    "        * **Crear ambiente virtual**: `poetry install`\n",
    "        * **Activar ambiente virtual**: `poetry shell`\n",
    "\n",
    "\n",
    "* Felicitaciones, tienes todo lo necesario para triunfar en este curso!\n",
    "\n"
   ]
  }
 ],
 "metadata": {
  "jupytext": {
   "cell_metadata_filter": "-all",
   "main_language": "python",
   "notebook_metadata_filter": "-all",
   "text_representation": {
    "extension": ".md",
    "format_name": "markdown"
   }
  }
 },
 "nbformat": 4,
 "nbformat_minor": 5
}
