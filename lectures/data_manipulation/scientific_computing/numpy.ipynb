{
 "cells": [
  {
   "cell_type": "markdown",
   "metadata": {},
   "source": [
    "# Numpy\n",
    "\n"
   ]
  },
  {
   "cell_type": "markdown",
   "metadata": {},
   "source": [
    "\n",
    "<img src=\"./images/numpy.jpeg\" align=\"center\"/>"
   ]
  },
  {
   "cell_type": "markdown",
   "metadata": {},
   "source": [
    "**NumPy** es el paquete fundamental para la computación científica con Python. Contiene entre otras cosas:\n",
    "\n",
    " * un poderoso objeto de matriz N-dimensional\n",
    " * funciones sofisticadas (de transmisión)\n",
    " * herramientas para integrar código C / C ++ y Fortran\n",
    " * Álgebra lineal útil, transformada de Fourier y capacidades de números aleatorios\n",
    "\n",
    "Además de sus obvios usos científicos, NumPy también se puede utilizar como un eficiente contenedor multidimensional de datos genéricos. Se pueden definir tipos de datos arbitrarios. Esto permite que  NumPy se integre sin problemas y rápidamente con una amplia variedad de bases de datos.\n",
    "\n",
    "NumPy tiene licencia bajo la licencia BSD, lo que permite su reutilización con pocas restricciones.\n",
    " \n",
    "### ¿ Por qué usar Numpy ?\n",
    "\n",
    "Las razones por las que debería usar NumPy en lugar de cualquier otro objeto `_iterable` en Python son:\n",
    "\n",
    "* NumPy proporciona una estructura de ndarray para almacenar datos numéricos de manera contigua.\n",
    "* También implementa operaciones matemáticas rápidas en ndarrays, que explotan esta contigüidad.\n",
    "* Brevedad de la sintaxis para las operaciones de matriz.\n",
    "\n",
    "Un lenguaje como C o Java requeriría que escribamos un bucle para una operación matricial tan simple como C = A + B. "
   ]
  },
  {
   "cell_type": "markdown",
   "metadata": {},
   "source": [
    "###  Operaciones básicas de NumPy\n",
    "Las razones por las que debería usar NumPy en lugar de cualquier otro objeto `_iterable` en Python son:\n",
    "\n",
    "* NumPy proporciona una estructura de ndarray para almacenar datos numéricos de manera contigua.\n",
    "* También implementa operaciones matemáticas rápidas en ndarrays, que explotan esta contigüidad.\n",
    "* Brevedad de la sintaxis para las operaciones de matriz.\n",
    "\n",
    "Un lenguaje como C o Java requeriría que escribamos un bucle para una operación matricial tan simple como C = A + B. "
   ]
  },
  {
   "cell_type": "code",
   "execution_count": 1,
   "metadata": {},
   "outputs": [],
   "source": [
    "# importar libreria: numpy\n",
    "import numpy as np\n",
    "import time\n",
    "import sys"
   ]
  },
  {
   "cell_type": "code",
   "execution_count": 2,
   "metadata": {},
   "outputs": [
    {
     "name": "stdout",
     "output_type": "stream",
     "text": [
      "Zeros:\n",
      "[[0. 0. 0.]\n",
      " [0. 0. 0.]\n",
      " [0. 0. 0.]]\n"
     ]
    }
   ],
   "source": [
    "# Arreglo de ceros: np.zeros(shape)\n",
    "print(\"Zeros:\")\n",
    "print( np.zeros((3,3)) )"
   ]
  },
  {
   "cell_type": "code",
   "execution_count": 3,
   "metadata": {},
   "outputs": [
    {
     "name": "stdout",
     "output_type": "stream",
     "text": [
      "\n",
      "Ones:\n",
      "[[1. 1. 1.]\n",
      " [1. 1. 1.]\n",
      " [1. 1. 1.]]\n"
     ]
    }
   ],
   "source": [
    "# Arreglos de uno: np.ones(shape)\n",
    "print(\"\\nOnes:\")\n",
    "print( np.ones((3,3)) )"
   ]
  },
  {
   "cell_type": "code",
   "execution_count": 4,
   "metadata": {},
   "outputs": [
    {
     "name": "stdout",
     "output_type": "stream",
     "text": [
      "\n",
      "Empty:\n",
      "[[5.e-324 4.e-323]\n",
      " [4.e-323 4.e-323]]\n"
     ]
    }
   ],
   "source": [
    "# Arreglo vacio: np.empty(shape)\n",
    "print(\"\\nEmpty:\")\n",
    "print( np.empty([2, 2]) )"
   ]
  },
  {
   "cell_type": "code",
   "execution_count": 5,
   "metadata": {},
   "outputs": [
    {
     "name": "stdout",
     "output_type": "stream",
     "text": [
      "\n",
      "Range:\n"
     ]
    },
    {
     "data": {
      "text/plain": [
       "array([0., 1., 2., 3., 4., 5., 6., 7., 8., 9.])"
      ]
     },
     "execution_count": 5,
     "metadata": {},
     "output_type": "execute_result"
    }
   ],
   "source": [
    "# Rango de valores: np.range(start, stop, step)\n",
    "print(\"\\nRange:\")\n",
    "np.arange(0., 10., 1.) "
   ]
  },
  {
   "cell_type": "code",
   "execution_count": 6,
   "metadata": {},
   "outputs": [
    {
     "name": "stdout",
     "output_type": "stream",
     "text": [
      "\n",
      "Regular grid:\n",
      "[0.    0.125 0.25  0.375 0.5   0.625 0.75  0.875 1.   ]\n"
     ]
    }
   ],
   "source": [
    "# Grilla de valores: np.linspace(start, end, n_values)\n",
    "print(\"\\nRegular grid:\")\n",
    "print( np.linspace(0., 1., 9) )"
   ]
  },
  {
   "cell_type": "code",
   "execution_count": 7,
   "metadata": {},
   "outputs": [
    {
     "name": "stdout",
     "output_type": "stream",
     "text": [
      "\n",
      "Random sequences:\n",
      "[6.62913893 1.44357124 3.41205452 4.61207364 8.59583224 8.59604932]\n"
     ]
    }
   ],
   "source": [
    "# fijar semilla\n",
    "np.random.seed(42)\n",
    "\n",
    "# Sequencia aleatoria: np.random\n",
    "print(\"\\nRandom sequences:\")\n",
    "print( np.random.uniform(10, size=6) )"
   ]
  },
  {
   "cell_type": "code",
   "execution_count": 8,
   "metadata": {},
   "outputs": [
    {
     "name": "stdout",
     "output_type": "stream",
     "text": [
      "\n",
      "Array constructor\n",
      "[ 2  3  5 10 -1]\n"
     ]
    }
   ],
   "source": [
    "# Construccion de arreglos: np.array( python_iterable )\n",
    "print(\"\\nArray constructor\")\n",
    "print( np.array([2, 3, 5, 10, -1]) )"
   ]
  },
  {
   "cell_type": "markdown",
   "metadata": {},
   "source": [
    "### Manipulación de datos\n",
    "\n",
    "En esta sección se presentan operaciones básicas de los arreglos de numpy."
   ]
  },
  {
   "cell_type": "code",
   "execution_count": 9,
   "metadata": {},
   "outputs": [
    {
     "data": {
      "text/plain": [
       "array([[ 1,  2,  3,  4],\n",
       "       [ 5,  6,  7,  8],\n",
       "       [ 9, 10, 11, 12]])"
      ]
     },
     "execution_count": 9,
     "metadata": {},
     "output_type": "execute_result"
    }
   ],
   "source": [
    "# matrix\n",
    "matriz_34 = np.array([\n",
    "    [1,2,3,4], \n",
    "    [5,6,7,8],\n",
    "    [9,10,11,12]\n",
    "])\n",
    "matriz_34"
   ]
  },
  {
   "cell_type": "code",
   "execution_count": 10,
   "metadata": {},
   "outputs": [
    {
     "data": {
      "text/plain": [
       "numpy.ndarray"
      ]
     },
     "execution_count": 10,
     "metadata": {},
     "output_type": "execute_result"
    }
   ],
   "source": [
    "### tipo\n",
    "type(matriz_34)"
   ]
  },
  {
   "cell_type": "code",
   "execution_count": 11,
   "metadata": {},
   "outputs": [
    {
     "name": "stdout",
     "output_type": "stream",
     "text": [
      "rows: 3\n",
      "columns: 4\n"
     ]
    }
   ],
   "source": [
    "### dimensiones\n",
    "size = matriz_34.shape\n",
    "\n",
    "print(f\"rows: {size[0]}\")\n",
    "print(f\"columns: {size[1]}\")"
   ]
  },
  {
   "cell_type": "code",
   "execution_count": 12,
   "metadata": {},
   "outputs": [
    {
     "name": "stdout",
     "output_type": "stream",
     "text": [
      "first row: \n",
      " [1 2 3 4] \n",
      "\n",
      "first col: \n",
      " [1 5 9] \n",
      "\n",
      "first and second rows: \n",
      " [[1 2 3 4]\n",
      " [5 6 7 8]] \n",
      "\n",
      "first and second cols: \n",
      " [[ 1  2]\n",
      " [ 5  6]\n",
      " [ 9 10]] \n",
      "\n"
     ]
    }
   ],
   "source": [
    "### Escoger filas y columnas\n",
    "print(f\"first row: \\n {matriz_34[0]} \\n\")\n",
    "print(f\"first col: \\n {matriz_34[:,0]} \\n\")\n",
    "print(f\"first and second rows: \\n {matriz_34[:2]} \\n\")\n",
    "print(f\"first and second cols: \\n {matriz_34[:,:2]} \\n\")"
   ]
  },
  {
   "cell_type": "markdown",
   "metadata": {},
   "source": [
    "**Añadir filas y columnas**\n",
    "\n",
    "Para añadir una columna, se debe asegurar que se este agregando un arreglo de tamaño: $(1,n)$"
   ]
  },
  {
   "cell_type": "code",
   "execution_count": 13,
   "metadata": {},
   "outputs": [
    {
     "data": {
      "text/plain": [
       "(1, 4)"
      ]
     },
     "execution_count": 13,
     "metadata": {},
     "output_type": "execute_result"
    }
   ],
   "source": [
    "A1 = np.array([[0,0,0,0]]) #  [[]]\n",
    "A1.shape"
   ]
  },
  {
   "cell_type": "code",
   "execution_count": 14,
   "metadata": {},
   "outputs": [
    {
     "data": {
      "text/plain": [
       "array([[ 1,  2,  3,  4],\n",
       "       [ 5,  6,  7,  8],\n",
       "       [ 9, 10, 11, 12],\n",
       "       [ 0,  0,  0,  0]])"
      ]
     },
     "execution_count": 14,
     "metadata": {},
     "output_type": "execute_result"
    }
   ],
   "source": [
    "# add row\n",
    "add_row = np.r_[matriz_34, A1]\n",
    "add_row"
   ]
  },
  {
   "cell_type": "markdown",
   "metadata": {},
   "source": [
    "Para añadir una columna, se debe asegurar que se este agregando un arreglo de tamaño $(n,)$\n",
    "\n"
   ]
  },
  {
   "cell_type": "code",
   "execution_count": 15,
   "metadata": {},
   "outputs": [
    {
     "data": {
      "text/plain": [
       "(3,)"
      ]
     },
     "execution_count": 15,
     "metadata": {},
     "output_type": "execute_result"
    }
   ],
   "source": [
    "A2= np.array([0,0,0]) # []\n",
    "A2.shape"
   ]
  },
  {
   "cell_type": "code",
   "execution_count": 16,
   "metadata": {},
   "outputs": [
    {
     "data": {
      "text/plain": [
       "array([[ 1,  2,  3,  4,  0],\n",
       "       [ 5,  6,  7,  8,  0],\n",
       "       [ 9, 10, 11, 12,  0]])"
      ]
     },
     "execution_count": 16,
     "metadata": {},
     "output_type": "execute_result"
    }
   ],
   "source": [
    "# add column\n",
    "add_column = np.c_[matriz_34, A2]\n",
    "add_column"
   ]
  },
  {
   "cell_type": "markdown",
   "metadata": {},
   "source": [
    "**Observación**:\n",
    "* Se debe tener cuidado al momento de operar vectores con dimensión $(1,n)$ o $(n,)$.\n",
    "* Para añadir filas o columnas a una matriz o juntar arreglos de numpy, se puede utilizar la función ``np.concatenate()``."
   ]
  },
  {
   "cell_type": "markdown",
   "metadata": {},
   "source": [
    "### Operaciones matemáticas básicas de matrices\n",
    "La mayoría de las operaciones realizadas en NumPy se manejan por elementos, es decir, calcular C = A + B se traducirá en $ C [i, j] = A [i, j] + B [i, j] $. (La excepción es la transmisión y se explicará pronto).\n",
    "\n",
    "A continuación hay una lista con las operaciones matemáticas más comunes. "
   ]
  },
  {
   "cell_type": "code",
   "execution_count": 17,
   "metadata": {},
   "outputs": [
    {
     "name": "stdout",
     "output_type": "stream",
     "text": [
      "Matrix A: \n",
      " [[1 2 3]\n",
      " [4 5 6]\n",
      " [7 8 9]] \n",
      "\n",
      "Matrix B: \n",
      " [[9 8 7]\n",
      " [6 5 4]\n",
      " [3 2 1]]\n"
     ]
    }
   ],
   "source": [
    "# fijar semilla\n",
    "np.random.seed(42)\n",
    "\n",
    "# crear dos arreglos\n",
    "A = np.array([\n",
    "    [1,2,3],\n",
    "    [4,5,6],\n",
    "    [7,8,9]\n",
    "])\n",
    "\n",
    "B = np.array([[9,8,7],[6,5,4],[3,2,1]])\n",
    "\n",
    "print(f\"Matrix A: \\n {A} \\n\")\n",
    "print(f\"Matrix B: \\n {B}\")"
   ]
  },
  {
   "cell_type": "code",
   "execution_count": 18,
   "metadata": {},
   "outputs": [
    {
     "name": "stdout",
     "output_type": "stream",
     "text": [
      "Sum:\n",
      "[[10 10 10]\n",
      " [10 10 10]\n",
      " [10 10 10]]\n"
     ]
    }
   ],
   "source": [
    "# suma\n",
    "print(\"Sum:\")\n",
    "print( A+B )"
   ]
  },
  {
   "cell_type": "code",
   "execution_count": 19,
   "metadata": {},
   "outputs": [
    {
     "name": "stdout",
     "output_type": "stream",
     "text": [
      "\n",
      "Subtraction\n",
      "[[-8 -6 -4]\n",
      " [-2  0  2]\n",
      " [ 4  6  8]]\n"
     ]
    }
   ],
   "source": [
    "# resta\n",
    "print(\"\\nSubtraction\")\n",
    "print( A-B )"
   ]
  },
  {
   "cell_type": "code",
   "execution_count": 20,
   "metadata": {},
   "outputs": [
    {
     "name": "stdout",
     "output_type": "stream",
     "text": [
      "\n",
      "Product\n",
      "[[ 9 16 21]\n",
      " [24 25 24]\n",
      " [21 16  9]]\n"
     ]
    }
   ],
   "source": [
    "# producto uno a uno\n",
    "print(\"\\nProduct\")\n",
    "print( A*B )"
   ]
  },
  {
   "cell_type": "code",
   "execution_count": 21,
   "metadata": {},
   "outputs": [
    {
     "name": "stdout",
     "output_type": "stream",
     "text": [
      "\n",
      "Matricial Product\n",
      "[[ 30  24  18]\n",
      " [ 84  69  54]\n",
      " [138 114  90]]\n"
     ]
    }
   ],
   "source": [
    "# producto matricial\n",
    "print(\"\\nMatricial Product\")\n",
    "print( np.dot(A,B) )"
   ]
  },
  {
   "cell_type": "code",
   "execution_count": 22,
   "metadata": {},
   "outputs": [
    {
     "name": "stdout",
     "output_type": "stream",
     "text": [
      "\n",
      " Power\n",
      "[[ 1  4  9]\n",
      " [16 25 36]\n",
      " [49 64 81]]\n"
     ]
    }
   ],
   "source": [
    "# potencia\n",
    "print(\"\\n Power\")\n",
    "print( A**2 )"
   ]
  },
  {
   "cell_type": "code",
   "execution_count": 23,
   "metadata": {},
   "outputs": [
    {
     "name": "stdout",
     "output_type": "stream",
     "text": [
      "\n",
      " np.exp()\n",
      "[[2.71828183e+00 7.38905610e+00 2.00855369e+01]\n",
      " [5.45981500e+01 1.48413159e+02 4.03428793e+02]\n",
      " [1.09663316e+03 2.98095799e+03 8.10308393e+03]]\n",
      "\n",
      " np.sin()\n",
      "[[ 0.84147098  0.90929743  0.14112001]\n",
      " [-0.7568025  -0.95892427 -0.2794155 ]\n",
      " [ 0.6569866   0.98935825  0.41211849]]\n",
      "\n",
      " np.cos()\n",
      "[[ 0.54030231 -0.41614684 -0.9899925 ]\n",
      " [-0.65364362  0.28366219  0.96017029]\n",
      " [ 0.75390225 -0.14550003 -0.91113026]]\n",
      "\n",
      " np.tan()\n",
      "[[ 1.55740772 -2.18503986 -0.14254654]\n",
      " [ 1.15782128 -3.38051501 -0.29100619]\n",
      " [ 0.87144798 -6.79971146 -0.45231566]]\n"
     ]
    }
   ],
   "source": [
    "# algunas funciones comunes \n",
    "print(\"\\n np.exp()\")\n",
    "print( np.exp(A) )\n",
    "print(\"\\n np.sin()\")\n",
    "print( np.sin(A) )\n",
    "print(\"\\n np.cos()\")\n",
    "print( np.cos(A))\n",
    "print(\"\\n np.tan()\")\n",
    "print( np.tan(A) )"
   ]
  },
  {
   "cell_type": "markdown",
   "metadata": {},
   "source": [
    "### Álgebra Lineal\n",
    "\n",
    "En esta sección se presentan algunas propiedades comunmente ocupadas en álgebra lineal de matrices."
   ]
  },
  {
   "cell_type": "code",
   "execution_count": 24,
   "metadata": {},
   "outputs": [],
   "source": [
    "# crear un arreglo\n",
    "\n",
    "A = np.array([[1,2],\n",
    "              [3,4]])"
   ]
  },
  {
   "cell_type": "code",
   "execution_count": 25,
   "metadata": {},
   "outputs": [
    {
     "name": "stdout",
     "output_type": "stream",
     "text": [
      "Transpose: \n",
      "[[1 3]\n",
      " [2 4]]\n"
     ]
    }
   ],
   "source": [
    "# transpuesta\n",
    "print(\"Transpose: \")\n",
    "print( A.T )"
   ]
  },
  {
   "cell_type": "code",
   "execution_count": 26,
   "metadata": {},
   "outputs": [
    {
     "name": "stdout",
     "output_type": "stream",
     "text": [
      "determinant\n",
      "-2.0\n"
     ]
    }
   ],
   "source": [
    "# determinante\n",
    "print(\"determinant\")\n",
    "print( round(np.linalg.det(A) ,2))"
   ]
  },
  {
   "cell_type": "code",
   "execution_count": 27,
   "metadata": {},
   "outputs": [
    {
     "name": "stdout",
     "output_type": "stream",
     "text": [
      "Inverse\n",
      "[[-2.   1. ]\n",
      " [ 1.5 -0.5]]\n"
     ]
    }
   ],
   "source": [
    "# Inversa\n",
    "print(\"Inverse\")\n",
    "print( np.linalg.inv(A) )"
   ]
  },
  {
   "cell_type": "code",
   "execution_count": 28,
   "metadata": {},
   "outputs": [
    {
     "name": "stdout",
     "output_type": "stream",
     "text": [
      "Trace\n",
      "5\n"
     ]
    }
   ],
   "source": [
    "# traza\n",
    "print(\"Trace\")\n",
    "print( np.trace(A))"
   ]
  },
  {
   "cell_type": "code",
   "execution_count": 29,
   "metadata": {},
   "outputs": [
    {
     "name": "stdout",
     "output_type": "stream",
     "text": [
      "linear system: Ax=b\n",
      "\n",
      "x = \n",
      "[[-3.]\n",
      " [ 4.]]\n"
     ]
    }
   ],
   "source": [
    "# sistemas lineales: Ax = b\n",
    "b = np.array([[5.], [7.]])\n",
    "\n",
    "print(\"linear system: Ax=b\")\n",
    "print(\"\\nx = \")\n",
    "print( np.linalg.solve(A, b) )"
   ]
  },
  {
   "cell_type": "code",
   "execution_count": 30,
   "metadata": {},
   "outputs": [
    {
     "name": "stdout",
     "output_type": "stream",
     "text": [
      "eigenvalues\n",
      "[-0.37228132  5.37228132]\n",
      "\n",
      "eigenvectors\n",
      "[[-0.82456484 -0.41597356]\n",
      " [ 0.56576746 -0.90937671]]\n"
     ]
    }
   ],
   "source": [
    "# Valores y vectores propios\n",
    "eigenvalues, eigenvectors = np.linalg.eig(A) \n",
    "\n",
    "print(\"eigenvalues\")\n",
    "print( eigenvalues )\n",
    "print(\"\\neigenvectors\")\n",
    "print( eigenvectors )"
   ]
  },
  {
   "cell_type": "code",
   "execution_count": 31,
   "metadata": {},
   "outputs": [
    {
     "name": "stdout",
     "output_type": "stream",
     "text": [
      "QR decomposition:\n",
      "\n",
      "Q\n",
      "[[-0.31622777 -0.9486833 ]\n",
      " [-0.9486833   0.31622777]]\n",
      "\n",
      "R\n",
      "[[-3.16227766 -4.42718872]\n",
      " [ 0.         -0.63245553]]\n"
     ]
    }
   ],
   "source": [
    "# descomposicion QR\n",
    "Q,R = np.linalg.qr(A)\n",
    "\n",
    "print(\"QR decomposition:\")\n",
    "print(\"\\nQ\")\n",
    "print( Q )\n",
    "print(\"\\nR\")\n",
    "print( R )"
   ]
  },
  {
   "cell_type": "markdown",
   "metadata": {},
   "source": [
    "### Broadcasting\n",
    "\n",
    "Unas de las ventajas de numpy es que podemos hacer  **broadcasting**, es to significa que numpy permite realizar operaciones binarias con arreglos de distintos tamaños."
   ]
  },
  {
   "cell_type": "markdown",
   "metadata": {},
   "source": [
    "\n",
    "\n",
    "<img src=\"./images/broad.png\" width=\"360\" height=\"240\" align=\"center\"/>"
   ]
  },
  {
   "cell_type": "code",
   "execution_count": 32,
   "metadata": {},
   "outputs": [
    {
     "name": "stdout",
     "output_type": "stream",
     "text": [
      "np.arange(3)+ 5:\n",
      "[5 6 7]\n"
     ]
    }
   ],
   "source": [
    "# example 01\n",
    "a = np.arange(3)+ 5\n",
    "print(f\"np.arange(3)+ 5:\\n{a}\" )"
   ]
  },
  {
   "cell_type": "code",
   "execution_count": 33,
   "metadata": {},
   "outputs": [
    {
     "name": "stdout",
     "output_type": "stream",
     "text": [
      "np.ones((3,3))+np.arange(3):\n",
      "[[1. 2. 3.]\n",
      " [1. 2. 3.]\n",
      " [1. 2. 3.]]\n"
     ]
    }
   ],
   "source": [
    "# example 02\n",
    "b = np.ones((3,3))+np.arange(3)\n",
    "print(f\"np.ones((3,3))+np.arange(3):\\n{b}\" )"
   ]
  },
  {
   "cell_type": "code",
   "execution_count": 34,
   "metadata": {},
   "outputs": [
    {
     "name": "stdout",
     "output_type": "stream",
     "text": [
      "np.arange(3).reshape((3,1)) +  np.arange(3):\n",
      "[[0 1 2]\n",
      " [1 2 3]\n",
      " [2 3 4]]\n"
     ]
    }
   ],
   "source": [
    "# example 03\n",
    "c = np.arange(3).reshape((3,1)) +  np.arange(3)\n",
    "print(f\"np.arange(3).reshape((3,1)) +  np.arange(3):\\n{c }\" )"
   ]
  },
  {
   "cell_type": "markdown",
   "metadata": {},
   "source": [
    "### Python Lists vs. Numpy Arrays\n",
    "\n",
    "\n",
    "La librería principal de Python son las listas. Una lista es el equivalente a Python de una matriz, pero es redimensionable y puede contener elementos de diferentes tipos.\n",
    "\n",
    "Una pregunta común para principiantes es cuál es la verdadera diferencia aquí. La respuesta es el **rendimiento**. Las estructuras de datos de Numpy funcionan mejor en:\n",
    "\n",
    "* **Tamaño**: las estructuras de datos de Numpy ocupan menos espacio\n",
    "* **Rendimiento**: necesitan velocidad y son más rápidos que las listas\n",
    "* **Funcionalidad**: SciPy y NumPy tienen funciones optimizadas, como las operaciones de álgebra lineal integradas."
   ]
  },
  {
   "cell_type": "markdown",
   "metadata": {},
   "source": [
    "### Memoria\n",
    "\n",
    "Los principales beneficios del uso de matrices NumPy deberían ser un menor consumo de memoria y un mejor comportamiento en tiempo de ejecución.\n",
    "\n",
    "Para las listas de Python: podemos concluir de esto que para cada elemento nuevo, necesitamos otros ocho bytes para la referencia al nuevo objeto. El nuevo objeto entero en sí consume 28 bytes. El tamaño de una lista **lst** sin el tamaño de los elementos se puede calcular con:\n",
    "\n",
    "                        64 + 8 * len (lst) + + len (lst) * 28\n",
    "                        \n",
    "                        "
   ]
  },
  {
   "cell_type": "markdown",
   "metadata": {},
   "source": [
    "\n",
    "\n",
    "<img src=\"./images/list_structure.png\" align=\"center\"/>"
   ]
  },
  {
   "cell_type": "markdown",
   "metadata": {},
   "source": [
    "NumPy ocupa menos espacio. Esto significa que una matriz entera arbitraria de longitud **n** en necesidades numpy se calcula por: \n",
    "\n",
    "                        96 + n * 8 bytes"
   ]
  },
  {
   "cell_type": "markdown",
   "metadata": {},
   "source": [
    "\n",
    "\n",
    "<img src=\"./images/array_structure.png\"  align=\"center\"/>"
   ]
  },
  {
   "cell_type": "markdown",
   "metadata": {},
   "source": [
    "Para convensernos de esto, ejecutemos un ejemplo:"
   ]
  },
  {
   "cell_type": "code",
   "execution_count": 35,
   "metadata": {},
   "outputs": [],
   "source": [
    "# example\n",
    "\n",
    "# class: array\n",
    "class Array:\n",
    "    \"\"\"\n",
    "    Clase array que da como rsultado el tiempo y espacio en \n",
    "    memoria de los objetos list y numpy array\n",
    "    \"\"\"\n",
    "    def __init__(self, size_of_vec):\n",
    "        self.size_of_vec = size_of_vec\n",
    "\n",
    "    def pure_python_version(self):\n",
    "        \"\"\"\n",
    "        Tiempo y espacio en memoria para objeto list\n",
    "        \"\"\"\n",
    "        t1 = time.time()\n",
    "        X = range(self.size_of_vec)\n",
    "        Y = range(self.size_of_vec)\n",
    "        Z = [X[i] + Y[i] for i in range(len(X)) ]\n",
    "        return (time.time() - t1,sys.getsizeof(Z) )\n",
    "        \n",
    "    def numpy_version(self):\n",
    "        \"\"\"\n",
    "        Tiempo y espacio en memoria para objeto numpy array\n",
    "        \"\"\"\n",
    "        t1 = time.time()\n",
    "        X = np.arange(self.size_of_vec)\n",
    "        Y = np.arange(self.size_of_vec)\n",
    "        Z = X + Y\n",
    "        return (time.time() - t1,sys.getsizeof(Z) )"
   ]
  },
  {
   "cell_type": "code",
   "execution_count": 36,
   "metadata": {},
   "outputs": [],
   "source": [
    "# parameters\n",
    "size_of_vec = 1000000\n",
    "class_array = Array(size_of_vec)\n",
    "\n",
    "t1, size1 = class_array.pure_python_version()\n",
    "t2, size2 = class_array.numpy_version()"
   ]
  },
  {
   "cell_type": "code",
   "execution_count": 37,
   "metadata": {},
   "outputs": [
    {
     "name": "stdout",
     "output_type": "stream",
     "text": [
      "python list -- time: 0.49169469 seg, size: 8697464 bytes\n",
      "numpy array -- time: 0.00699592 seg, size: 4000096 bytes\n"
     ]
    }
   ],
   "source": [
    "# results\n",
    "print(f\"python list -- time: {round(t1,8)} seg, size: {size1} bytes\")\n",
    "print(f\"numpy array -- time: {round(t2,8)} seg, size: {size2} bytes\")"
   ]
  },
  {
   "cell_type": "markdown",
   "metadata": {},
   "source": [
    "## Referencia\n",
    "\n",
    "1. [Quickstart tutorial-numpy](https://docs.scipy.org/doc/numpy/user/quickstart.html)\n",
    "2. [Mathematical functions](https://numpy.org/doc/stable/reference/routines.math.html)"
   ]
  }
 ],
 "metadata": {
  "kernelspec": {
   "display_name": "Python 3",
   "language": "python",
   "name": "python3"
  },
  "language_info": {
   "codemirror_mode": {
    "name": "ipython",
    "version": 3
   },
   "file_extension": ".py",
   "mimetype": "text/x-python",
   "name": "python",
   "nbconvert_exporter": "python",
   "pygments_lexer": "ipython3",
   "version": "3.8.5"
  }
 },
 "nbformat": 4,
 "nbformat_minor": 4
}
