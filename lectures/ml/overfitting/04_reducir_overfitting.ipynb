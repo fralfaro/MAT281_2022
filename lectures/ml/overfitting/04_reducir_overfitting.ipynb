{
 "cells": [
  {
   "cell_type": "markdown",
   "metadata": {},
   "source": [
    "# Reducir el overfitting\n",
    "\n",
    "\n",
    "Algunas de las técnicas que podemos utilizar para reducir el overfitting, son:\n",
    "\n",
    "* Recolectar más datos.\n",
    "* Introducir una penalización a la complejidad con alguna técnica de regularización.\n",
    "* Utilizar modelos ensamblados.\n",
    "* Utilizar validación cruzada.\n",
    "* Optimizar los parámetros del modelo con *grid search*.\n",
    "* Reducir la dimensión de los datos.\n",
    "* Aplicar técnicas de selección de atributos.\n",
    "\n",
    "\n",
    "Veremos ejemplos de algunos métodos para reducir el sobreajuste (overfitting)."
   ]
  },
  {
   "cell_type": "markdown",
   "metadata": {},
   "source": [
    "## Validación cruzada\n",
    "\n",
    "La **validación cruzada** se inicia mediante el fraccionamiento de un conjunto de datos en un número $k$ de particiones (generalmente entre 5 y 10) llamadas *pliegues*.\n",
    "\n",
    "La validación cruzada luego itera entre los datos de *evaluación* y *entrenamiento* $k$ veces, de un modo particular. En cada iteración de la validación cruzada, un *pliegue* diferente se elige como los datos de *evaluación*. En esta iteración, los otros *pliegues* $k-1$ se combinan para formar los datos de *entrenamiento*. Por lo tanto, en cada iteración tenemos $(k-1) / k$ de los datos utilizados para el *entrenamiento* y $1 / k$ utilizado para la *evaluación*.\n",
    "\n",
    "Cada iteración produce un modelo, y por lo tanto una estimación del rendimiento de la *generalización*, por ejemplo, una estimación de la precisión. Una vez finalizada la validación cruzada, todos los ejemplos se han utilizado sólo una vez para *evaluar* pero $k -1$ veces para *entrenar*. En este punto tenemos estimaciones de rendimiento de todos los *pliegues* y podemos calcular la media y la desviación estándar de la precisión del modelo. \n",
    "\n",
    "\n",
    "<img src=\"./images/validacion_cruzada.png\" width=\"550\" height=\"650\" align=\"center\"/>\n",
    "\n"
   ]
  },
  {
   "cell_type": "markdown",
   "metadata": {},
   "source": [
    "Veamos un ejemplo en python, ocupando el conjunto de datos **make_classification**."
   ]
  },
  {
   "cell_type": "code",
   "execution_count": 28,
   "metadata": {},
   "outputs": [],
   "source": [
    "# librerias \n",
    "\n",
    "import pandas as pd\n",
    "import numpy as np \n",
    "import matplotlib.pyplot as plt \n",
    "import seaborn as sns \n",
    "from sklearn.model_selection import train_test_split\n",
    "from sklearn.datasets import make_classification\n",
    "from sklearn.svm import SVC\n",
    "from sklearn.tree import DecisionTreeClassifier,DecisionTreeRegressor\n",
    "import random\n",
    "\n",
    "random.seed(1982) # semilla\n",
    "\n",
    "# graficos incrustados\n",
    "%matplotlib inline\n",
    "\n",
    "# parametros esteticos de seaborn\n",
    "sns.set_palette(\"deep\", desat=.6)\n",
    "sns.set_context(rc={\"figure.figsize\": (12, 4)})"
   ]
  },
  {
   "cell_type": "code",
   "execution_count": 29,
   "metadata": {},
   "outputs": [],
   "source": [
    "# Ejemplo en python - árboles de decisión\n",
    "# dummy data con 100 atributos y 2 clases\n",
    "X, y = make_classification(10000, 100, n_informative=3, n_classes=2,\n",
    "                          random_state=1982)\n",
    "\n",
    "# separ los datos en train y eval\n",
    "x_train, x_eval, y_train, y_eval = train_test_split(X, y, test_size=0.35, \n",
    "                                                    train_size=0.65,\n",
    "                                                    random_state=1982)\n",
    "\n",
    "# Grafico de ajuste del árbol de decisión\n",
    "train_prec =  []\n",
    "eval_prec = []\n",
    "max_deep_list = list(range(2, 20))"
   ]
  },
  {
   "cell_type": "code",
   "execution_count": 10,
   "metadata": {},
   "outputs": [
    {
     "name": "stdout",
     "output_type": "stream",
     "text": [
      "Pliegue: 1, Dist Clase: [4763 4737], Prec: 0.928\n",
      "Pliegue: 2, Dist Clase: [4763 4737], Prec: 0.914\n",
      "Pliegue: 3, Dist Clase: [4763 4737], Prec: 0.914\n",
      "Pliegue: 4, Dist Clase: [4763 4737], Prec: 0.938\n",
      "Pliegue: 5, Dist Clase: [4763 4737], Prec: 0.922\n",
      "Pliegue: 6, Dist Clase: [4763 4737], Prec: 0.938\n",
      "Pliegue: 7, Dist Clase: [4763 4737], Prec: 0.924\n",
      "Pliegue: 8, Dist Clase: [4762 4738], Prec: 0.938\n",
      "Pliegue: 9, Dist Clase: [4762 4738], Prec: 0.936\n",
      "Pliegue: 10, Dist Clase: [4762 4738], Prec: 0.908\n",
      "Pliegue: 11, Dist Clase: [4762 4738], Prec: 0.936\n",
      "Pliegue: 12, Dist Clase: [4762 4738], Prec: 0.938\n",
      "Pliegue: 13, Dist Clase: [4762 4738], Prec: 0.934\n",
      "Pliegue: 14, Dist Clase: [4762 4738], Prec: 0.920\n",
      "Pliegue: 15, Dist Clase: [4762 4738], Prec: 0.930\n",
      "Pliegue: 16, Dist Clase: [4762 4738], Prec: 0.928\n",
      "Pliegue: 17, Dist Clase: [4762 4738], Prec: 0.924\n",
      "Pliegue: 18, Dist Clase: [4762 4738], Prec: 0.926\n",
      "Pliegue: 19, Dist Clase: [4762 4738], Prec: 0.936\n",
      "Pliegue: 20, Dist Clase: [4762 4738], Prec: 0.920\n"
     ]
    }
   ],
   "source": [
    "# Ejemplo cross-validation\n",
    "from sklearn.model_selection import cross_validate,StratifiedKFold\n",
    "\n",
    "# creando pliegues\n",
    "\n",
    "skf = StratifiedKFold(n_splits=20)\n",
    "precision = []\n",
    "model =  DecisionTreeClassifier(criterion='entropy', max_depth=5)\n",
    "\n",
    "skf.get_n_splits(x_train, y_train)\n",
    "for k, (train_index, test_index) in enumerate(skf.split(X, y)):\n",
    "    X_train, X_test = X[train_index], X[test_index]\n",
    "    y_train, y_test = y[train_index], y[test_index]\n",
    "    model.fit(X_train,y_train) \n",
    "    score = model.score(X_test,y_test)\n",
    "    precision.append(score)\n",
    "    print('Pliegue: {0:}, Dist Clase: {1:}, Prec: {2:.3f}'.format(k+1,\n",
    "                        np.bincount(y_train), score))\n",
    "    "
   ]
  },
  {
   "cell_type": "markdown",
   "metadata": {},
   "source": [
    "En este ejemplo, utilizamos el iterador `StratifiedKFold` que nos proporciona Scikit-learn. Este iterador es una versión mejorada de la validación cruzada, ya que cada *pliegue* va a estar estratificado para mantener las proporciones entre las *clases* del conjunto de datos original, lo que suele dar mejores estimaciones del sesgo y la varianza del modelo. \n",
    "\n",
    "También podríamos utilizar `cross_val_score` que ya nos proporciona los resultados de la precisión que tuvo el modelo en cada *pliegue*."
   ]
  },
  {
   "cell_type": "code",
   "execution_count": 11,
   "metadata": {},
   "outputs": [],
   "source": [
    "# Ejemplo con cross_val_score\n",
    "from sklearn.model_selection import cross_val_score\n",
    "\n",
    "# separ los datos en train y eval\n",
    "x_train, x_eval, y_train, y_eval = train_test_split(X, y, test_size=0.35, \n",
    "                                                    train_size=0.65,\n",
    "                                                    random_state=1982)\n",
    "\n",
    "\n",
    "model = DecisionTreeClassifier(criterion='entropy',\n",
    "                               max_depth=5)\n",
    "\n",
    "\n",
    "precision = cross_val_score(estimator=model,\n",
    "                            X=x_train,\n",
    "                            y=y_train,\n",
    "                            cv=20)"
   ]
  },
  {
   "cell_type": "code",
   "execution_count": 12,
   "metadata": {},
   "outputs": [
    {
     "name": "stdout",
     "output_type": "stream",
     "text": [
      "Precisiones: [0.93, 0.94, 0.92, 0.94, 0.93, 0.9, 0.92, 0.94, 0.94, 0.93, 0.94, 0.92, 0.91, 0.9, 0.94, 0.94, 0.93, 0.93, 0.93, 0.94] \n",
      "Precision promedio:  0.928 +/-  0.013\n"
     ]
    }
   ],
   "source": [
    "precision = [round(x,2) for x in precision]\n",
    "print('Precisiones: {} '.format(precision))\n",
    "print('Precision promedio: {0: .3f} +/- {1: .3f}'.format(np.mean(precision),\n",
    "                                          np.std(precision)))"
   ]
  },
  {
   "cell_type": "markdown",
   "metadata": {},
   "source": [
    "### Más datos y curvas de aprendizaje\n",
    "\n",
    "* Muchas veces, reducir el Sobreajuste es tan fácil como conseguir más datos, dame más datos y te predeciré el futuro!. \n",
    "* En la vida real nunca es una tarea tan sencilla conseguir más datos. \n",
    "* Una técnica para reducir el sobreajuste son las *curvas de aprendizaje*, las cuales grafican la precisión en función del tamaño de los datos de entrenamiento. \n",
    "\n",
    "<img alt=\"Curva de aprendizaje\" title=\"Curva de aprendizaje\" src=\"./images/curva_aprendizaje.png\" width=\"600\" height=\"600\" >"
   ]
  },
  {
   "cell_type": "markdown",
   "metadata": {},
   "source": [
    "Para graficar las curvas de aprendizaje es necesario ocupar el comando de sklearn llamado `learning_curve`."
   ]
  },
  {
   "cell_type": "code",
   "execution_count": 13,
   "metadata": {},
   "outputs": [],
   "source": [
    "# Ejemplo Curvas de aprendizaje\n",
    "from sklearn.model_selection import  learning_curve\n",
    "\n",
    "train_sizes, train_scores, test_scores = learning_curve(\n",
    "                        estimator=model,\n",
    "                        X=x_train,\n",
    "                        y=y_train, \n",
    "                        train_sizes=np.linspace(0.1, 1.0, 20),\n",
    "                        cv=10,\n",
    "                        n_jobs=-1\n",
    "                        )\n",
    "\n",
    "# calculo de metricas\n",
    "train_mean = np.mean(train_scores, axis=1)\n",
    "train_std = np.std(train_scores, axis=1)\n",
    "test_mean = np.mean(test_scores, axis=1)\n",
    "test_std = np.std(test_scores, axis=1)"
   ]
  },
  {
   "cell_type": "markdown",
   "metadata": {},
   "source": [
    "Veamos que el comando `learning_curve` va creando conjunto de datos, pero de distintos tamaños."
   ]
  },
  {
   "cell_type": "code",
   "execution_count": 14,
   "metadata": {},
   "outputs": [
    {
     "name": "stdout",
     "output_type": "stream",
     "text": [
      "Tamaño Conjunto 1: 585\n",
      "Tamaño Conjunto 2: 862\n",
      "Tamaño Conjunto 3: 1139\n",
      "Tamaño Conjunto 4: 1416\n",
      "Tamaño Conjunto 5: 1693\n",
      "Tamaño Conjunto 6: 1970\n",
      "Tamaño Conjunto 7: 2247\n",
      "Tamaño Conjunto 8: 2524\n",
      "Tamaño Conjunto 9: 2801\n",
      "Tamaño Conjunto 10: 3078\n",
      "Tamaño Conjunto 11: 3356\n",
      "Tamaño Conjunto 12: 3633\n",
      "Tamaño Conjunto 13: 3910\n",
      "Tamaño Conjunto 14: 4187\n",
      "Tamaño Conjunto 15: 4464\n",
      "Tamaño Conjunto 16: 4741\n",
      "Tamaño Conjunto 17: 5018\n",
      "Tamaño Conjunto 18: 5295\n",
      "Tamaño Conjunto 19: 5572\n",
      "Tamaño Conjunto 20: 5850\n"
     ]
    }
   ],
   "source": [
    "# tamano conjunto de entrenamiento\n",
    "for k in range(len(train_sizes)):\n",
    "    print('Tamaño Conjunto {}: {}'.format(k+1,train_sizes[k]))"
   ]
  },
  {
   "cell_type": "markdown",
   "metadata": {},
   "source": [
    "Finalmente, graficamos las precisiones tanto para el conjunto de entranamiento como de evaluación para los distintos conjuntos de datos generados. "
   ]
  },
  {
   "cell_type": "code",
   "execution_count": 15,
   "metadata": {},
   "outputs": [
    {
     "data": {
      "image/png": "[encoded data removed]",
      "text/plain": [
       "<Figure size 864x576 with 1 Axes>"
      ]
     },
     "metadata": {
      "needs_background": "light"
     },
     "output_type": "display_data"
    }
   ],
   "source": [
    "# graficando las curvas\n",
    "plt.figure(figsize=(12,8))\n",
    "\n",
    "plt.plot(train_sizes, train_mean, color='r', marker='o', markersize=5,\n",
    "         label='entrenamiento')\n",
    "plt.fill_between(train_sizes, train_mean + train_std, \n",
    "                 train_mean - train_std, alpha=0.15, color='r')\n",
    "plt.plot(train_sizes, test_mean, color='b', linestyle='--', \n",
    "         marker='s', markersize=5, label='evaluacion')\n",
    "plt.fill_between(train_sizes, test_mean + test_std, \n",
    "                 test_mean - test_std, alpha=0.15, color='b')\n",
    "plt.grid()\n",
    "plt.title('Curva de aprendizaje')\n",
    "plt.legend(loc='upper right')\n",
    "plt.xlabel('Cant de ejemplos de entrenamiento')\n",
    "plt.ylabel('Precision')\n",
    "plt.show()"
   ]
  },
  {
   "cell_type": "markdown",
   "metadata": {},
   "source": [
    "En este gráfico podemos concluir que:\n",
    "\n",
    "* Con pocos datos la precisión entre los datos de entrenamiento y los de evaluación son muy distintas y luego a medida que la cantidad de datos va aumentando, el modelo puede generalizar mucho mejor y las precisiones se comienzan a emparejar. \n",
    "\n",
    "\n",
    "* Este gráfico también puede ser importante a la hora de decidir invertir en la obtención de más datos, ya que por ejemplo nos indica que a partir las 2500 muestras, el modelo ya no gana mucha más precisión a pesar de obtener más datos."
   ]
  },
  {
   "cell_type": "markdown",
   "metadata": {},
   "source": [
    "## Optimización de parámetros con Grid Search\n",
    "\n",
    "La mayoría de los modelos de Machine Learning cuentan con varios parámetros para ajustar su comportamiento, por lo tanto, otra alternativa que tenemos para reducir el Sobreajuste es optimizar estos parámetros por medio de un proceso conocido como **grid search** e intentar encontrar la combinación ideal que nos proporcione mayor precisión.\n",
    "\n",
    "El enfoque que utiliza *grid search* es bastante simple, se trata de una búsqueda exhaustiva por el paradigma de fuerza bruta en el que se especifica una lista de valores para diferentes parámetros, y la computadora evalúa el rendimiento del modelo para cada combinación de éstos parámetros para obtener el conjunto óptimo que nos brinda el mayor rendimiento. \n",
    "\n",
    "\n",
    "<img alt=\"Curva de aprendizaje\" title=\"Curva de aprendizaje\" src=\"images/hyper.png\" width=\"600\" height=\"500\" >"
   ]
  },
  {
   "cell_type": "code",
   "execution_count": 29,
   "metadata": {},
   "outputs": [
    {
     "data": {
      "text/plain": [
       "{'criterion': ['gini', 'entropy'],\n",
       " 'max_depth': array([  4,   5,   6,   7,   8,   9,  10,  11,  12,  15,  20,  30,  40,\n",
       "         50,  70,  90, 120, 150])}"
      ]
     },
     "execution_count": 29,
     "metadata": {},
     "output_type": "execute_result"
    }
   ],
   "source": [
    "# Ejemplo de grid search con SVM.\n",
    "from sklearn.model_selection import GridSearchCV\n",
    "\n",
    "# creación del modelo\n",
    "model = DecisionTreeClassifier()\n",
    "\n",
    "# rango de parametros\n",
    "rango_criterion = ['gini','entropy']\n",
    "rango_max_depth =np.array( [4,5,6,7,8,9,10,11,12,15,20,30,40,50,70,90,120,150])\n",
    "param_grid = dict(criterion=rango_criterion, max_depth=rango_max_depth)\n",
    "param_grid"
   ]
  },
  {
   "cell_type": "code",
   "execution_count": 30,
   "metadata": {},
   "outputs": [],
   "source": [
    "# aplicar greed search\n",
    "\n",
    "gs = GridSearchCV(estimator=model, \n",
    "                  param_grid=param_grid, \n",
    "                  scoring='accuracy',\n",
    "                  cv=5,\n",
    "                  n_jobs=-1)\n",
    "\n",
    "gs = gs.fit(x_train, y_train)"
   ]
  },
  {
   "cell_type": "code",
   "execution_count": 32,
   "metadata": {},
   "outputs": [
    {
     "name": "stdout",
     "output_type": "stream",
     "text": [
      "0.9329230769230769\n",
      "{'criterion': 'entropy', 'max_depth': 6}\n"
     ]
    }
   ],
   "source": [
    "# imprimir resultados\n",
    "print(gs.best_score_)\n",
    "print(gs.best_params_)"
   ]
  },
  {
   "cell_type": "code",
   "execution_count": 33,
   "metadata": {},
   "outputs": [
    {
     "name": "stdout",
     "output_type": "stream",
     "text": [
      "Precisión: 0.938\n"
     ]
    }
   ],
   "source": [
    "# utilizando el mejor modelo\n",
    "mejor_modelo = gs.best_estimator_\n",
    "mejor_modelo.fit(x_train, y_train)\n",
    "print('Precisión: {0:.3f}'.format(mejor_modelo.score(x_eval, y_eval)))"
   ]
  },
  {
   "cell_type": "markdown",
   "metadata": {},
   "source": [
    "En este ejemplo, primero utilizamos el objeto `GridSearchCV` que nos permite realizar *grid search* junto con validación cruzada, luego comenzamos a ajustar el modelo con las diferentes combinaciones de los valores de los parámetros `criterion` y `max_depth`. Finalmente imprimimos el mejor resultado de precisión y los valores de los parámetros que utilizamos para obtenerlos; por último utilizamos este mejor modelo para realizar las predicciones con los datos de *evaluación*. \n",
    "\n",
    "Podemos ver que la precisión que obtuvimos con los datos de evaluación es casi idéntica a la que nos indicó *grid search*, lo que indica que el modelo *generaliza* muy bien.\n"
   ]
  },
  {
   "cell_type": "markdown",
   "metadata": {},
   "source": [
    "## Reducción de dimensionalidad\n",
    "\n",
    "La **reducción de dimensiones** es frecuentemente usada como una etapa de preproceso en el entrenamiento de\n",
    "sistemas, y consiste en escoger un subconjunto de\n",
    "variables, de tal manera, que el espacio de características\n",
    "quede óptimamente reducido de acuerdo a un criterio de\n",
    "evaluación, cuyo fin es distinguir el subconjunto que\n",
    "representa mejor el espacio inicial de entrenamiento.\n",
    "\n",
    "Como cada característica que se incluye en el análisis,\n",
    "puede incrementar el costo y el tiempo de proceso de los\n",
    "sistemas, hay una fuerte motivación para diseñar e\n",
    "implementar sistemas con pequeños conjuntos de\n",
    "características. Sin dejar de lado, que al mismo tiempo,\n",
    "hay una opuesta necesidad de incluir un conjunto\n",
    "suficiente de características para lograr un alto\n",
    "rendimiento. \n",
    "\n",
    "\n",
    "La reducción de dimensionalidad se puede separar en dos tipos: **Extracción de atributos** y  **Selección de aributos**.\n",
    "\n",
    "### Extracción de atributos\n",
    "\n",
    "La **extracción de atributos** comienza a partir de un conjunto inicial de datos medidos y crea valores derivados (características) destinados a ser informativos y no redundantes, lo que facilita los pasos de aprendizaje y generalización posteriores, y en algunos casos conduce a a mejores interpretaciones humanas. \n",
    "\n",
    "Cuando los datos de entrada a un algoritmo son demasiado grandes para ser procesados y se sospecha que son redundantes (por ejemplo, la misma medición en pies y metros, o la repetitividad de las imágenes presentadas como píxeles), entonces se puede transformar en un conjunto reducido de características (también denominado un vector de características). \n",
    "\n",
    "\n",
    "Estos algoritmos fueron analizados con profundidad en la sección de **Análisis no supervisados - Reducción de la dimensionalidad**."
   ]
  },
  {
   "cell_type": "markdown",
   "metadata": {},
   "source": [
    "### Selección de atributos\n",
    "\n",
    "Proceso por el cual seleccionamos un subconjunto de atributos (representados por cada una de las columnas en un datasetde forma tabular) que son más relevantes para la construcción del modelo predictivo sobre el que estamos trabajando. \n",
    "\n",
    "\n",
    "El objetivo de la selección de atributos es : \n",
    "* mejorar la capacidad predictiva de nuestro modelo, \n",
    "* proporcionando modelos predictivos más rápidos y eficientes, \n",
    "* proporcionar una mejor comprensión del proceso subyacente que generó los datos. \n",
    "    \n",
    "    \n",
    "Los métodos de selección de atributos se pueden utilizar para identificar y eliminar los atributos innecesarios, irrelevantes y redundantes que no contribuyen a la exactitud del modelo predictivo o incluso puedan disminuir su precisión. \n",
    "\n",
    "\n"
   ]
  },
  {
   "cell_type": "markdown",
   "metadata": {},
   "source": [
    "**Algoritmos para selección de atributos**\n",
    "\n",
    "Podemos encontrar dos clases generales de algoritmos de [selección de atributos](https://en.wikipedia.org/wiki/Feature_selection): los métodos de filtrado, y los métodos empaquetados.\n",
    "\n",
    "* **Métodos de filtrado**:  Estos métodos aplican una medida estadística para asignar una puntuación a cada atributo. Los atributos luego son clasificados de acuerdo a su puntuación y son, o bien seleccionados para su conservación o eliminados del conjunto de datos. Los métodos de filtrado son a menudo [univariantes](https://en.wikipedia.org/wiki/Univariate_analysis) y consideran a cada atributo en forma independiente, o con respecto a la variable dependiente.\n",
    "    * Ejemplos : [prueba de Chi cuadrado](https://es.wikipedia.org/wiki/Prueba_%CF%87%C2%B2), [prueba F de Fisher](https://es.wikipedia.org/wiki/Prueba_F_de_Fisher), [ratio de ganancia de información](https://en.wikipedia.org/wiki/Information_gain_ratio) y los [coeficientes de correlación](https://es.wikipedia.org/wiki/Correlaci%C3%B3n).\n",
    "    \n",
    "\n",
    "* **Métodos empaquetados**: Estos métodos consideran la selección de un conjunto de atributos como un problema de búsqueda, en donde las diferentes combinaciones son evaluadas y comparadas. Para hacer estas evaluaciones se utiliza un modelo predictivo y luego se asigna una puntuación a cada combinación basada en la precisión del modelo.\n",
    "    * Un ejemplo de este método es el algoritmo de eliminación recursiva de atributos."
   ]
  },
  {
   "cell_type": "markdown",
   "metadata": {},
   "source": [
    "Un método popular en sklearn es el método **SelectKBest**, el cual selecciona las  características de acuerdo con las $k$ puntuaciones más altas (de acuerdo al criterio escogido). \n",
    "\n",
    "Para entender este conceptos, transformemos el conjunto de datos anterior a formato pandas DataFrame."
   ]
  },
  {
   "cell_type": "code",
   "execution_count": 52,
   "metadata": {},
   "outputs": [
    {
     "data": {
      "text/html": [
       "<div>\n",
       "<style scoped>\n",
       "    .dataframe tbody tr th:only-of-type {\n",
       "        vertical-align: middle;\n",
       "    }\n",
       "\n",
       "    .dataframe tbody tr th {\n",
       "        vertical-align: top;\n",
       "    }\n",
       "\n",
       "    .dataframe thead th {\n",
       "        text-align: right;\n",
       "    }\n",
       "</style>\n",
       "<table border=\"1\" class=\"dataframe\">\n",
       "  <thead>\n",
       "    <tr style=\"text-align: right;\">\n",
       "      <th></th>\n",
       "      <th>V1</th>\n",
       "      <th>V2</th>\n",
       "      <th>V3</th>\n",
       "      <th>V4</th>\n",
       "      <th>V5</th>\n",
       "      <th>V6</th>\n",
       "      <th>V7</th>\n",
       "      <th>V8</th>\n",
       "      <th>V9</th>\n",
       "      <th>V10</th>\n",
       "      <th>...</th>\n",
       "      <th>V92</th>\n",
       "      <th>V93</th>\n",
       "      <th>V94</th>\n",
       "      <th>V95</th>\n",
       "      <th>V96</th>\n",
       "      <th>V97</th>\n",
       "      <th>V98</th>\n",
       "      <th>V99</th>\n",
       "      <th>V100</th>\n",
       "      <th>y</th>\n",
       "    </tr>\n",
       "  </thead>\n",
       "  <tbody>\n",
       "    <tr>\n",
       "      <th>0</th>\n",
       "      <td>0.949283</td>\n",
       "      <td>-1.075706</td>\n",
       "      <td>-0.105733</td>\n",
       "      <td>-0.000047</td>\n",
       "      <td>-0.278974</td>\n",
       "      <td>0.510083</td>\n",
       "      <td>-0.778030</td>\n",
       "      <td>-1.976158</td>\n",
       "      <td>-1.201534</td>\n",
       "      <td>-1.047384</td>\n",
       "      <td>...</td>\n",
       "      <td>-0.630209</td>\n",
       "      <td>-0.331225</td>\n",
       "      <td>-0.202422</td>\n",
       "      <td>-1.786323</td>\n",
       "      <td>1.540031</td>\n",
       "      <td>1.119424</td>\n",
       "      <td>0.507775</td>\n",
       "      <td>-0.848286</td>\n",
       "      <td>-0.027485</td>\n",
       "      <td>1</td>\n",
       "    </tr>\n",
       "    <tr>\n",
       "      <th>1</th>\n",
       "      <td>0.183904</td>\n",
       "      <td>0.524554</td>\n",
       "      <td>-1.561357</td>\n",
       "      <td>-1.950628</td>\n",
       "      <td>1.077846</td>\n",
       "      <td>-0.598287</td>\n",
       "      <td>0.153160</td>\n",
       "      <td>-1.206113</td>\n",
       "      <td>0.673170</td>\n",
       "      <td>-0.843770</td>\n",
       "      <td>...</td>\n",
       "      <td>-1.015067</td>\n",
       "      <td>0.319214</td>\n",
       "      <td>0.240570</td>\n",
       "      <td>-2.205400</td>\n",
       "      <td>-0.430933</td>\n",
       "      <td>-0.313175</td>\n",
       "      <td>0.752012</td>\n",
       "      <td>-0.070265</td>\n",
       "      <td>1.390394</td>\n",
       "      <td>0</td>\n",
       "    </tr>\n",
       "    <tr>\n",
       "      <th>2</th>\n",
       "      <td>0.499151</td>\n",
       "      <td>-0.625950</td>\n",
       "      <td>2.977037</td>\n",
       "      <td>0.612030</td>\n",
       "      <td>-0.102034</td>\n",
       "      <td>2.076814</td>\n",
       "      <td>1.661343</td>\n",
       "      <td>1.310895</td>\n",
       "      <td>-1.115465</td>\n",
       "      <td>-0.544276</td>\n",
       "      <td>...</td>\n",
       "      <td>0.311830</td>\n",
       "      <td>-1.130865</td>\n",
       "      <td>0.247865</td>\n",
       "      <td>-0.499241</td>\n",
       "      <td>-1.595737</td>\n",
       "      <td>-0.496805</td>\n",
       "      <td>-0.917257</td>\n",
       "      <td>0.976909</td>\n",
       "      <td>-1.518979</td>\n",
       "      <td>0</td>\n",
       "    </tr>\n",
       "    <tr>\n",
       "      <th>3</th>\n",
       "      <td>-0.172063</td>\n",
       "      <td>-0.599516</td>\n",
       "      <td>0.154253</td>\n",
       "      <td>-0.593797</td>\n",
       "      <td>0.931374</td>\n",
       "      <td>0.939714</td>\n",
       "      <td>1.107241</td>\n",
       "      <td>0.146723</td>\n",
       "      <td>-0.446275</td>\n",
       "      <td>0.095896</td>\n",
       "      <td>...</td>\n",
       "      <td>-1.641808</td>\n",
       "      <td>-1.170021</td>\n",
       "      <td>0.815094</td>\n",
       "      <td>-0.722564</td>\n",
       "      <td>-0.263476</td>\n",
       "      <td>-0.715898</td>\n",
       "      <td>1.962313</td>\n",
       "      <td>1.076288</td>\n",
       "      <td>-2.259682</td>\n",
       "      <td>0</td>\n",
       "    </tr>\n",
       "    <tr>\n",
       "      <th>4</th>\n",
       "      <td>-0.396408</td>\n",
       "      <td>0.876210</td>\n",
       "      <td>-0.791795</td>\n",
       "      <td>0.999677</td>\n",
       "      <td>0.046859</td>\n",
       "      <td>-0.166211</td>\n",
       "      <td>-0.549437</td>\n",
       "      <td>0.344644</td>\n",
       "      <td>0.349981</td>\n",
       "      <td>-0.207106</td>\n",
       "      <td>...</td>\n",
       "      <td>1.307020</td>\n",
       "      <td>0.876912</td>\n",
       "      <td>0.882497</td>\n",
       "      <td>-0.704791</td>\n",
       "      <td>-0.743942</td>\n",
       "      <td>-0.075060</td>\n",
       "      <td>0.622693</td>\n",
       "      <td>0.751576</td>\n",
       "      <td>0.907325</td>\n",
       "      <td>0</td>\n",
       "    </tr>\n",
       "  </tbody>\n",
       "</table>\n",
       "<p>5 rows × 101 columns</p>\n",
       "</div>"
      ],
      "text/plain": [
       "         V1        V2        V3        V4        V5        V6        V7  \\\n",
       "0  0.949283 -1.075706 -0.105733 -0.000047 -0.278974  0.510083 -0.778030   \n",
       "1  0.183904  0.524554 -1.561357 -1.950628  1.077846 -0.598287  0.153160   \n",
       "2  0.499151 -0.625950  2.977037  0.612030 -0.102034  2.076814  1.661343   \n",
       "3 -0.172063 -0.599516  0.154253 -0.593797  0.931374  0.939714  1.107241   \n",
       "4 -0.396408  0.876210 -0.791795  0.999677  0.046859 -0.166211 -0.549437   \n",
       "\n",
       "         V8        V9       V10  ...       V92       V93       V94       V95  \\\n",
       "0 -1.976158 -1.201534 -1.047384  ... -0.630209 -0.331225 -0.202422 -1.786323   \n",
       "1 -1.206113  0.673170 -0.843770  ... -1.015067  0.319214  0.240570 -2.205400   \n",
       "2  1.310895 -1.115465 -0.544276  ...  0.311830 -1.130865  0.247865 -0.499241   \n",
       "3  0.146723 -0.446275  0.095896  ... -1.641808 -1.170021  0.815094 -0.722564   \n",
       "4  0.344644  0.349981 -0.207106  ...  1.307020  0.876912  0.882497 -0.704791   \n",
       "\n",
       "        V96       V97       V98       V99      V100  y  \n",
       "0  1.540031  1.119424  0.507775 -0.848286 -0.027485  1  \n",
       "1 -0.430933 -0.313175  0.752012 -0.070265  1.390394  0  \n",
       "2 -1.595737 -0.496805 -0.917257  0.976909 -1.518979  0  \n",
       "3 -0.263476 -0.715898  1.962313  1.076288 -2.259682  0  \n",
       "4 -0.743942 -0.075060  0.622693  0.751576  0.907325  0  \n",
       "\n",
       "[5 rows x 101 columns]"
      ]
     },
     "execution_count": 52,
     "metadata": {},
     "output_type": "execute_result"
    }
   ],
   "source": [
    "# Datos\n",
    "X, y = make_classification(10000, 100, n_informative=3, n_classes=2,\n",
    "                          random_state=1982)\n",
    "\n",
    "df = pd.DataFrame(X)\n",
    "df.columns = [f'V{k}' for k in range(1,X.shape[1]+1)]\n",
    "df['y']=y\n",
    "df.head()"
   ]
  },
  {
   "cell_type": "markdown",
   "metadata": {},
   "source": [
    "Comencemos con un simple algoritmo [univariante](https://en.wikipedia.org/wiki/Univariate_analysis) que aplica el método de filtrado. Para esto vamos a utilizar los objetos `SelectKBest` y `f_classif` del paquete `sklearn.feature_selection`.\n",
    "\n",
    "Este algoritmo selecciona a los mejores atributos basándose en una prueba estadística [univariante](https://en.wikipedia.org/wiki/Univariate_analysis). Al objeto `SelectKBest` le pasamos la prueba estadística que vamos a a aplicar, en este caso una [prueba F](https://es.wikipedia.org/wiki/Prueba_F_de_Fisher) definida por el objeto `f_classif`, junto con el número de atributos a seleccionar. El algoritmo va a aplicar la prueba a todos los atributos y va a seleccionar los que mejor resultado obtuvieron.\n"
   ]
  },
  {
   "cell_type": "code",
   "execution_count": null,
   "metadata": {},
   "outputs": [],
   "source": [
    "from sklearn.feature_selection import SelectKBest\n",
    "from sklearn.feature_selection import f_classif"
   ]
  },
  {
   "cell_type": "code",
   "execution_count": 45,
   "metadata": {},
   "outputs": [],
   "source": [
    "# Separamos las columnas objetivo\n",
    "x_training = df.drop(['y',], axis=1)\n",
    "y_training = df['y']\n",
    "\n",
    "# Aplicando el algoritmo univariante de prueba F.\n",
    "k = 15  # número de atributos a seleccionar\n",
    "columnas = list(x_training.columns.values)\n",
    "seleccionadas = SelectKBest(f_classif, k=k).fit(x_training, y_training)"
   ]
  },
  {
   "cell_type": "code",
   "execution_count": 46,
   "metadata": {},
   "outputs": [
    {
     "data": {
      "text/plain": [
       "['V1',\n",
       " 'V42',\n",
       " 'V46',\n",
       " 'V49',\n",
       " 'V62',\n",
       " 'V64',\n",
       " 'V66',\n",
       " 'V68',\n",
       " 'V69',\n",
       " 'V75',\n",
       " 'V82',\n",
       " 'V86',\n",
       " 'V89',\n",
       " 'V98',\n",
       " 'V100']"
      ]
     },
     "execution_count": 46,
     "metadata": {},
     "output_type": "execute_result"
    }
   ],
   "source": [
    "catrib = seleccionadas.get_support()\n",
    "atributos = [columnas[i] for i in list(catrib.nonzero()[0])]\n",
    "atributos"
   ]
  },
  {
   "cell_type": "markdown",
   "metadata": {},
   "source": [
    "Como podemos ver, el algoritmo nos seleccionó la cantidad de atributos que le indicamos; en este ejemplo decidimos seleccionar solo 15; obviamente, cuando armemos nuestro modelo final vamos a tomar un número mayor de atributos. Ahora se procederá a comparar los resultados de entrenar un modelo en particular con todas las variables y el subconjunto de variables seleccionadas."
   ]
  },
  {
   "cell_type": "code",
   "execution_count": 47,
   "metadata": {},
   "outputs": [],
   "source": [
    "from sklearn.model_selection import train_test_split\n",
    "from sklearn.linear_model import LogisticRegression\n",
    "from metrics_classification import summary_metrics"
   ]
  },
  {
   "cell_type": "code",
   "execution_count": 60,
   "metadata": {},
   "outputs": [
    {
     "name": "stdout",
     "output_type": "stream",
     "text": [
      "82.4 ms ± 6.51 ms per loop (mean ± std. dev. of 7 runs, 10 loops each)\n"
     ]
    }
   ],
   "source": [
    "%%timeit\n",
    "# Entrenamiento con todas las variables \n",
    "X = df.drop('y',axis = 1)\n",
    "Y = df['y']\n",
    "\n",
    "# split dataset\n",
    "X_train, X_test, Y_train, Y_test = train_test_split(X, Y, test_size=0.2, random_state = 2) \n",
    "\n",
    "# Creando el modelo\n",
    "rlog = LogisticRegression()\n",
    "rlog.fit(X_train, Y_train) # ajustando el modelo\n",
    "\n",
    "predicciones = rlog.predict(X_test)\n",
    "\n",
    "df_pred = pd.DataFrame({\n",
    "    'y':Y_test,\n",
    "    'yhat':predicciones\n",
    "})\n",
    "\n",
    "df_s1 = summary_metrics(df_pred).assign(name = 'Todas las variables')"
   ]
  },
  {
   "cell_type": "code",
   "execution_count": 61,
   "metadata": {},
   "outputs": [
    {
     "name": "stdout",
     "output_type": "stream",
     "text": [
      "60.4 ms ± 8.62 ms per loop (mean ± std. dev. of 7 runs, 10 loops each)\n"
     ]
    }
   ],
   "source": [
    "%%timeit\n",
    "# Entrenamiento con las variables seleccionadas\n",
    "X = df[atributos]\n",
    "Y = df['y']\n",
    "\n",
    "# split dataset\n",
    "X_train, X_test, Y_train, Y_test = train_test_split(X, Y, test_size=0.2, random_state = 2) \n",
    "\n",
    "# Creando el modelo\n",
    "rlog = LogisticRegression()\n",
    "rlog.fit(X_train, Y_train) # ajustando el modelo\n",
    "\n",
    "predicciones = rlog.predict(X_test)\n",
    "\n",
    "df_pred = pd.DataFrame({\n",
    "    'y':Y_test,\n",
    "    'yhat':predicciones\n",
    "})\n",
    "\n",
    "df_s2 = summary_metrics(df_pred).assign(name = 'Variables Seleccionadas')"
   ]
  },
  {
   "cell_type": "markdown",
   "metadata": {},
   "source": [
    "Juntando ambos resultados:"
   ]
  },
  {
   "cell_type": "code",
   "execution_count": 62,
   "metadata": {},
   "outputs": [
    {
     "data": {
      "text/html": [
       "<div>\n",
       "<style scoped>\n",
       "    .dataframe tbody tr th:only-of-type {\n",
       "        vertical-align: middle;\n",
       "    }\n",
       "\n",
       "    .dataframe tbody tr th {\n",
       "        vertical-align: top;\n",
       "    }\n",
       "\n",
       "    .dataframe thead th {\n",
       "        text-align: right;\n",
       "    }\n",
       "</style>\n",
       "<table border=\"1\" class=\"dataframe\">\n",
       "  <thead>\n",
       "    <tr style=\"text-align: right;\">\n",
       "      <th></th>\n",
       "      <th>accuracy</th>\n",
       "      <th>recall</th>\n",
       "      <th>precision</th>\n",
       "      <th>fscore</th>\n",
       "      <th>name</th>\n",
       "    </tr>\n",
       "  </thead>\n",
       "  <tbody>\n",
       "    <tr>\n",
       "      <th>0</th>\n",
       "      <td>0.8905</td>\n",
       "      <td>0.8906</td>\n",
       "      <td>0.8907</td>\n",
       "      <td>0.8905</td>\n",
       "      <td>Todas las variables</td>\n",
       "    </tr>\n",
       "    <tr>\n",
       "      <th>0</th>\n",
       "      <td>0.8985</td>\n",
       "      <td>0.8986</td>\n",
       "      <td>0.8986</td>\n",
       "      <td>0.8985</td>\n",
       "      <td>Variables Seleccionadas</td>\n",
       "    </tr>\n",
       "  </tbody>\n",
       "</table>\n",
       "</div>"
      ],
      "text/plain": [
       "   accuracy  recall  precision  fscore                     name\n",
       "0    0.8905  0.8906     0.8907  0.8905      Todas las variables\n",
       "0    0.8985  0.8986     0.8986  0.8985  Variables Seleccionadas"
      ]
     },
     "execution_count": 62,
     "metadata": {},
     "output_type": "execute_result"
    }
   ],
   "source": [
    "# juntar resultados en formato dataframe\n",
    "pd.concat([df_s1,df_s2])"
   ]
  },
  {
   "cell_type": "markdown",
   "metadata": {},
   "source": [
    "Las métricas para ambos casos son parecidas y el tiempo de ejecución del modelo con menos variable resulta ser menor (lo cual era algo esperable). Lo cual nos muestra que trabajando con menos variables, se puede captar las características más relevante del problema, y en la medida que se trabaje con más datos, las mejoras a nivel de capacidad de cómputo tendrán un mejor desempeño."
   ]
  },
  {
   "cell_type": "markdown",
   "metadata": {},
   "source": [
    "## Referencia\n",
    "\n",
    "1. [K-Fold Cross Validation](https://medium.com/datadriveninvestor/k-fold-cross-validation-6b8518070833)\n",
    "2. [Cross Validation and Grid Search for Model Selection in Python](https://stackabuse.com/cross-validation-and-grid-search-for-model-selection-in-python/)\n",
    "3. [Feature selection for supervised models using SelectKBest](https://www.kaggle.com/jepsds/feature-selection-using-selectkbest?utm_campaign=News&utm_medium=Community&utm_source=DataCamp.com)\n"
   ]
  }
 ],
 "metadata": {
  "kernelspec": {
   "display_name": "Python 3",
   "language": "python",
   "name": "python3"
  },
  "language_info": {
   "codemirror_mode": {
    "name": "ipython",
    "version": 3
   },
   "file_extension": ".py",
   "mimetype": "text/x-python",
   "name": "python",
   "nbconvert_exporter": "python",
   "pygments_lexer": "ipython3",
   "version": "3.8.5"
  }
 },
 "nbformat": 4,
 "nbformat_minor": 4
}
