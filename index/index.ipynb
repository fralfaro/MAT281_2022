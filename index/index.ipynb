{
 "cells": [
  {
   "cell_type": "markdown",
   "id": "e79975a3",
   "metadata": {},
   "source": [
    "# Home\n",
    "![example workflow](https://github.com/fralfaro/<PROJECT>/actions/workflows/documentation.yml/badge.svg)\n",
    "<a href=\"https://fralfaro.github.io/<PROJECT>/\"><img alt=\"Link a la Documentación\" src=\"https://img.shields.io/badge/docs-link-brightgreen\"></a>\n",
    "\n",
    "\n",
    " <PROJECT DESCRIPTION>\n",
    "\n",
    "## Material\n",
    "\n",
    "El material está disponible en el siguiente [repositorio](https://github.com/fralfaro/<PROJECT>), para obtener el código de fuente basta con que ejecutes el siguiente comando:\n",
    "\n",
    "```\n",
    "https://github.com/FAAM/<PROJECT>\n",
    "```\n",
    "\n",
    "## Contenidos temáticos\n",
    "\n",
    "* \n",
    "\n"
   ]
  }
 ],
 "metadata": {
  "jupytext": {
   "cell_metadata_filter": "-all",
   "main_language": "python",
   "notebook_metadata_filter": "-all",
   "text_representation": {
    "extension": ".md",
    "format_name": "markdown"
   }
  },
  "kernelspec": {
   "display_name": "Python 3",
   "language": "python",
   "name": "python3"
  },
  "language_info": {
   "codemirror_mode": {
    "name": "ipython",
    "version": 3
   },
   "file_extension": ".py",
   "mimetype": "text/x-python",
   "name": "python",
   "nbconvert_exporter": "python",
   "pygments_lexer": "ipython3",
   "version": "3.8.10"
  }
 },
 "nbformat": 4,
 "nbformat_minor": 5
}
